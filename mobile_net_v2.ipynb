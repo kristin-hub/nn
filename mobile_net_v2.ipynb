{
  "nbformat": 4,
  "nbformat_minor": 0,
  "metadata": {
    "colab": {
      "name": "mobile_net_v2.ipynb",
      "provenance": [],
      "collapsed_sections": [],
      "include_colab_link": true
    },
    "kernelspec": {
      "name": "python3",
      "display_name": "Python 3"
    },
    "accelerator": "GPU"
  },
  "cells": [
    {
      "cell_type": "markdown",
      "metadata": {
        "id": "view-in-github",
        "colab_type": "text"
      },
      "source": [
        "<a href=\"https://colab.research.google.com/github/kristin-hub/nn/blob/master/mobile_net_v2.ipynb\" target=\"_parent\"><img src=\"https://colab.research.google.com/assets/colab-badge.svg\" alt=\"Open In Colab\"/></a>"
      ]
    },
    {
      "cell_type": "markdown",
      "metadata": {
        "id": "z-Wb-GxXQxSA",
        "colab_type": "text"
      },
      "source": [
        "**Подключаем датасет с гугл диска**"
      ]
    },
    {
      "cell_type": "code",
      "metadata": {
        "id": "btg-Fwix6Q8f",
        "colab_type": "code",
        "colab": {}
      },
      "source": [
        ""
      ],
      "execution_count": 0,
      "outputs": []
    },
    {
      "cell_type": "code",
      "metadata": {
        "id": "FJ0tjFVrzzfm",
        "colab_type": "code",
        "outputId": "986a43ff-d271-4de0-f90a-9c80cc2d78fc",
        "colab": {
          "base_uri": "https://localhost:8080/",
          "height": 35
        }
      },
      "source": [
        "from google.colab import drive\n",
        "drive.mount('/content/drive')"
      ],
      "execution_count": 0,
      "outputs": [
        {
          "output_type": "stream",
          "text": [
            "Drive already mounted at /content/drive; to attempt to forcibly remount, call drive.mount(\"/content/drive\", force_remount=True).\n"
          ],
          "name": "stdout"
        }
      ]
    },
    {
      "cell_type": "code",
      "metadata": {
        "id": "cF7tAvgxz8Ts",
        "colab_type": "code",
        "colab": {}
      },
      "source": [
        "from os import listdir, rename\n",
        "from os.path import isfile, join\n",
        "\n",
        "source_dir = 'drive/My Drive/data'\n",
        "train_dir = 'drive/My Drive/data/train'\n",
        "validation_dir = 'drive/My Drive/data/validation'\n",
        "test_dir = 'drive/My Drive/data/test'\n",
        "\n",
        "fake_dir = 'fake'\n",
        "orig_dir = 'orig'\n",
        "\n",
        "images = [f for f in listdir(source_dir) if isfile(join(source_dir, f))]"
      ],
      "execution_count": 0,
      "outputs": []
    },
    {
      "cell_type": "code",
      "metadata": {
        "id": "xVEXD5l90HjE",
        "colab_type": "code",
        "colab": {}
      },
      "source": [
        "import numpy as np\n",
        "import tensorflow as tf\n",
        "\n",
        "from keras.backend.tensorflow_backend import set_session\n",
        "\n",
        "np.random.seed(0)\n",
        "tf.set_random_seed(0)\n",
        "\n",
        "config = tf.ConfigProto()\n",
        "config.gpu_options.allow_growth = True\n",
        "set_session(tf.Session(config=config))\n"
      ],
      "execution_count": 0,
      "outputs": []
    },
    {
      "cell_type": "markdown",
      "metadata": {
        "id": "4O5QN1TiTG5W",
        "colab_type": "text"
      },
      "source": [
        "**Проверяем включена ли GPU**"
      ]
    },
    {
      "cell_type": "code",
      "metadata": {
        "id": "RdcgcrJT0OcF",
        "colab_type": "code",
        "outputId": "38b5f27e-fbe7-453a-f8b2-525cd4bdb6e9",
        "colab": {
          "base_uri": "https://localhost:8080/",
          "height": 555
        }
      },
      "source": [
        "from tensorflow.python.client import device_lib\n",
        "print(device_lib.list_local_devices())"
      ],
      "execution_count": 0,
      "outputs": [
        {
          "output_type": "stream",
          "text": [
            "[name: \"/device:CPU:0\"\n",
            "device_type: \"CPU\"\n",
            "memory_limit: 268435456\n",
            "locality {\n",
            "}\n",
            "incarnation: 3638315602080691642\n",
            ", name: \"/device:XLA_CPU:0\"\n",
            "device_type: \"XLA_CPU\"\n",
            "memory_limit: 17179869184\n",
            "locality {\n",
            "}\n",
            "incarnation: 5068650392118300242\n",
            "physical_device_desc: \"device: XLA_CPU device\"\n",
            ", name: \"/device:XLA_GPU:0\"\n",
            "device_type: \"XLA_GPU\"\n",
            "memory_limit: 17179869184\n",
            "locality {\n",
            "}\n",
            "incarnation: 10152955245829577919\n",
            "physical_device_desc: \"device: XLA_GPU device\"\n",
            ", name: \"/device:GPU:0\"\n",
            "device_type: \"GPU\"\n",
            "memory_limit: 14912199066\n",
            "locality {\n",
            "  bus_id: 1\n",
            "  links {\n",
            "  }\n",
            "}\n",
            "incarnation: 17680438679886396421\n",
            "physical_device_desc: \"device: 0, name: Tesla T4, pci bus id: 0000:00:04.0, compute capability: 7.5\"\n",
            "]\n"
          ],
          "name": "stdout"
        }
      ]
    },
    {
      "cell_type": "code",
      "metadata": {
        "id": "0E1aUmrE0fjb",
        "colab_type": "code",
        "colab": {}
      },
      "source": [
        "train_data_dir = 'drive/My Drive/data/train'\n",
        "test_data_dir = 'drive/My Drive/data/test'\n",
        "validation_data_dir = 'drive/My Drive/data/validation'\n",
        "\n",
        "img_height = 224\n",
        "img_width = 224\n",
        "\n",
        "batch_size = 16\n",
        "epochs = 30\n",
        "\n",
        "train_first_class = 4112\n",
        "train_second_class = 4112\n",
        "\n",
        "val_first_class = 1120\n",
        "val_second_class = 1120\n",
        "\n",
        "nb_train_samples = train_first_class + train_second_class\n",
        "nb_validation_samples = val_first_class + val_second_class\n"
      ],
      "execution_count": 0,
      "outputs": []
    },
    {
      "cell_type": "code",
      "metadata": {
        "id": "YJu2VcsbHPK0",
        "colab_type": "code",
        "colab": {}
      },
      "source": [
        ""
      ],
      "execution_count": 0,
      "outputs": []
    },
    {
      "cell_type": "markdown",
      "metadata": {
        "id": "4QiONDpoD63O",
        "colab_type": "text"
      },
      "source": [
        "**Прогоняем наш датасет через сверточные слои предобученной сети Xception, чтобы получить признаки и сохраняем их**"
      ]
    },
    {
      "cell_type": "code",
      "metadata": {
        "id": "U-0UpJkR1X6n",
        "colab_type": "code",
        "outputId": "8669c67c-fe95-4a5f-9400-8246f644bbad",
        "colab": {
          "base_uri": "https://localhost:8080/",
          "height": 87
        }
      },
      "source": [
        "from keras.layers import Input\n",
        "from keras.applications.mobilenet_v2 import MobileNetV2 \n",
        "from keras.preprocessing import image\n",
        "\n",
        "input_tensor = Input(shape=(img_height,img_width,3))\n",
        "\n",
        "base_model = MobileNetV2(weights='imagenet',\n",
        "                          include_top=False,\n",
        "                          input_shape=(img_width, img_height, 3),\n",
        "                          pooling='avg')\n",
        "\n",
        "data_generator = image.ImageDataGenerator(rescale=1. / 255)\n",
        "\n",
        "train_generator = data_generator.flow_from_directory(\n",
        "    train_data_dir,\n",
        "    target_size=(img_height, img_width),\n",
        "    batch_size=batch_size,\n",
        "    class_mode=None,\n",
        "    shuffle=False)\n",
        "\n",
        "bottleneck_features_train = base_model.predict_generator(\n",
        "        train_generator, \n",
        "        nb_train_samples // batch_size)\n",
        "\n",
        "print('Prediction of the training set finished.')\n",
        "\n",
        "np.save(open('bottleneck_features_train.npy', 'wb'),\n",
        "            bottleneck_features_train)\n",
        "\n",
        "validation_generator = data_generator.flow_from_directory(\n",
        "    validation_data_dir,\n",
        "    target_size=(img_height, img_width),\n",
        "    batch_size=batch_size,\n",
        "    class_mode=None,\n",
        "    shuffle=False)\n",
        "\n",
        "bottleneck_features_validation = base_model.predict_generator(\n",
        "        validation_generator, \n",
        "        nb_validation_samples // batch_size)\n",
        "\n",
        "print('Prediction of the validation set finished.')\n",
        "\n",
        "np.save(open('bottleneck_features_validation.npy', 'wb'),\n",
        "            bottleneck_features_validation)"
      ],
      "execution_count": 0,
      "outputs": [
        {
          "output_type": "stream",
          "text": [
            "Found 8224 images belonging to 2 classes.\n",
            "Prediction of the training set finished.\n",
            "Found 2240 images belonging to 2 classes.\n",
            "Prediction of the validation set finished.\n"
          ],
          "name": "stdout"
        }
      ]
    },
    {
      "cell_type": "code",
      "metadata": {
        "id": "G-AdPmFKFKN3",
        "colab_type": "code",
        "colab": {}
      },
      "source": [
        ""
      ],
      "execution_count": 0,
      "outputs": []
    },
    {
      "cell_type": "code",
      "metadata": {
        "id": "HuCox5Ev1sWz",
        "colab_type": "code",
        "colab": {}
      },
      "source": [
        "train_data = np.load(open('bottleneck_features_train.npy', 'rb'))\n",
        "train_labels = np.array([0] * train_first_class + [1] * train_second_class)\n",
        "\n",
        "validation_data = np.load(open('bottleneck_features_validation.npy', 'rb'))\n",
        "validation_labels = np.array([0] * (val_first_class) + [1] * (val_second_class))"
      ],
      "execution_count": 0,
      "outputs": []
    },
    {
      "cell_type": "markdown",
      "metadata": {
        "id": "NivdVMbkN5yz",
        "colab_type": "text"
      },
      "source": [
        "**Создадим полносвязные слои и обучим их на полученных признаках**"
      ]
    },
    {
      "cell_type": "code",
      "metadata": {
        "id": "t0bhS3d3_whU",
        "colab_type": "code",
        "outputId": "ce037a20-194d-4dbf-ba0c-c320257f6d70",
        "colab": {
          "base_uri": "https://localhost:8080/",
          "height": 1000
        }
      },
      "source": [
        "from keras.models import Sequential\n",
        "from keras.callbacks import ModelCheckpoint\n",
        "from keras.optimizers import SGD\n",
        "from keras.layers import Dropout, Dense\n",
        "\n",
        "model = Sequential()\n",
        "    \n",
        "model.add(Dense(256, activation='relu', input_shape=base_model.output_shape[1:]))\n",
        "model.add(Dropout(0.5))\n",
        "\n",
        "model.add(Dense(128, activation='relu'))\n",
        "model.add(Dropout(0.5))    \n",
        "\n",
        "model.add(Dense(64, activation='relu'))\n",
        "model.add(Dropout(0.5))   \n",
        "\n",
        "model.add(Dense(1, activation='sigmoid'))\n",
        "\n",
        "model.compile(optimizer=SGD(lr=0.005),\n",
        "              loss='binary_crossentropy',\n",
        "              metrics=['accuracy'])\n",
        "\n",
        "checkpointer = ModelCheckpoint(filepath='top-weights.hdf5', verbose=1, save_best_only=True)\n",
        "\n",
        "history = model.fit(train_data,\n",
        "                    train_labels,\n",
        "                    epochs=epochs,\n",
        "                    batch_size=batch_size,\n",
        "                    callbacks=[checkpointer],\n",
        "                    validation_data=(validation_data, validation_labels))"
      ],
      "execution_count": 0,
      "outputs": [
        {
          "output_type": "stream",
          "text": [
            "Train on 8224 samples, validate on 2240 samples\n",
            "Epoch 1/30\n",
            "8224/8224 [==============================] - 5s 650us/step - loss: 0.7515 - acc: 0.5186 - val_loss: 0.6849 - val_acc: 0.5652\n",
            "\n",
            "Epoch 00001: val_loss improved from inf to 0.68490, saving model to top-weights.hdf5\n",
            "Epoch 2/30\n",
            "8224/8224 [==============================] - 3s 382us/step - loss: 0.7043 - acc: 0.5174 - val_loss: 0.6827 - val_acc: 0.5964\n",
            "\n",
            "Epoch 00002: val_loss improved from 0.68490 to 0.68273, saving model to top-weights.hdf5\n",
            "Epoch 3/30\n",
            "8224/8224 [==============================] - 3s 389us/step - loss: 0.6945 - acc: 0.5360 - val_loss: 0.6786 - val_acc: 0.6121\n",
            "\n",
            "Epoch 00003: val_loss improved from 0.68273 to 0.67863, saving model to top-weights.hdf5\n",
            "Epoch 4/30\n",
            "8224/8224 [==============================] - 3s 396us/step - loss: 0.6891 - acc: 0.5427 - val_loss: 0.6726 - val_acc: 0.6299\n",
            "\n",
            "Epoch 00004: val_loss improved from 0.67863 to 0.67263, saving model to top-weights.hdf5\n",
            "Epoch 5/30\n",
            "8224/8224 [==============================] - 3s 395us/step - loss: 0.6806 - acc: 0.5675 - val_loss: 0.6664 - val_acc: 0.6406\n",
            "\n",
            "Epoch 00005: val_loss improved from 0.67263 to 0.66641, saving model to top-weights.hdf5\n",
            "Epoch 6/30\n",
            "8224/8224 [==============================] - 3s 403us/step - loss: 0.6710 - acc: 0.5896 - val_loss: 0.6571 - val_acc: 0.6415\n",
            "\n",
            "Epoch 00006: val_loss improved from 0.66641 to 0.65706, saving model to top-weights.hdf5\n",
            "Epoch 7/30\n",
            "8224/8224 [==============================] - 3s 367us/step - loss: 0.6677 - acc: 0.5916 - val_loss: 0.6490 - val_acc: 0.6545\n",
            "\n",
            "Epoch 00007: val_loss improved from 0.65706 to 0.64902, saving model to top-weights.hdf5\n",
            "Epoch 8/30\n",
            "8224/8224 [==============================] - 3s 377us/step - loss: 0.6575 - acc: 0.6041 - val_loss: 0.6434 - val_acc: 0.6589\n",
            "\n",
            "Epoch 00008: val_loss improved from 0.64902 to 0.64337, saving model to top-weights.hdf5\n",
            "Epoch 9/30\n",
            "8224/8224 [==============================] - 3s 367us/step - loss: 0.6549 - acc: 0.6082 - val_loss: 0.6379 - val_acc: 0.6504\n",
            "\n",
            "Epoch 00009: val_loss improved from 0.64337 to 0.63793, saving model to top-weights.hdf5\n",
            "Epoch 10/30\n",
            "8224/8224 [==============================] - 3s 379us/step - loss: 0.6501 - acc: 0.6256 - val_loss: 0.6331 - val_acc: 0.6607\n",
            "\n",
            "Epoch 00010: val_loss improved from 0.63793 to 0.63307, saving model to top-weights.hdf5\n",
            "Epoch 11/30\n",
            "8224/8224 [==============================] - 3s 375us/step - loss: 0.6449 - acc: 0.6289 - val_loss: 0.6291 - val_acc: 0.6607\n",
            "\n",
            "Epoch 00011: val_loss improved from 0.63307 to 0.62905, saving model to top-weights.hdf5\n",
            "Epoch 12/30\n",
            "8224/8224 [==============================] - 3s 382us/step - loss: 0.6372 - acc: 0.6374 - val_loss: 0.6276 - val_acc: 0.6643\n",
            "\n",
            "Epoch 00012: val_loss improved from 0.62905 to 0.62756, saving model to top-weights.hdf5\n",
            "Epoch 13/30\n",
            "8224/8224 [==============================] - 3s 383us/step - loss: 0.6304 - acc: 0.6470 - val_loss: 0.6178 - val_acc: 0.6714\n",
            "\n",
            "Epoch 00013: val_loss improved from 0.62756 to 0.61782, saving model to top-weights.hdf5\n",
            "Epoch 14/30\n",
            "8224/8224 [==============================] - 3s 383us/step - loss: 0.6277 - acc: 0.6494 - val_loss: 0.6142 - val_acc: 0.6714\n",
            "\n",
            "Epoch 00014: val_loss improved from 0.61782 to 0.61419, saving model to top-weights.hdf5\n",
            "Epoch 15/30\n",
            "8224/8224 [==============================] - 3s 375us/step - loss: 0.6200 - acc: 0.6620 - val_loss: 0.6123 - val_acc: 0.6705\n",
            "\n",
            "Epoch 00015: val_loss improved from 0.61419 to 0.61226, saving model to top-weights.hdf5\n",
            "Epoch 16/30\n",
            "8224/8224 [==============================] - 3s 383us/step - loss: 0.6148 - acc: 0.6605 - val_loss: 0.6088 - val_acc: 0.6795\n",
            "\n",
            "Epoch 00016: val_loss improved from 0.61226 to 0.60878, saving model to top-weights.hdf5\n",
            "Epoch 17/30\n",
            "8224/8224 [==============================] - 3s 366us/step - loss: 0.6135 - acc: 0.6643 - val_loss: 0.6086 - val_acc: 0.6710\n",
            "\n",
            "Epoch 00017: val_loss improved from 0.60878 to 0.60864, saving model to top-weights.hdf5\n",
            "Epoch 18/30\n",
            "8224/8224 [==============================] - 3s 373us/step - loss: 0.6073 - acc: 0.6730 - val_loss: 0.6056 - val_acc: 0.6728\n",
            "\n",
            "Epoch 00018: val_loss improved from 0.60864 to 0.60560, saving model to top-weights.hdf5\n",
            "Epoch 19/30\n",
            "8224/8224 [==============================] - 3s 371us/step - loss: 0.5952 - acc: 0.6815 - val_loss: 0.6020 - val_acc: 0.6781\n",
            "\n",
            "Epoch 00019: val_loss improved from 0.60560 to 0.60204, saving model to top-weights.hdf5\n",
            "Epoch 20/30\n",
            "8224/8224 [==============================] - 3s 371us/step - loss: 0.5904 - acc: 0.6852 - val_loss: 0.6005 - val_acc: 0.6737\n",
            "\n",
            "Epoch 00020: val_loss improved from 0.60204 to 0.60048, saving model to top-weights.hdf5\n",
            "Epoch 21/30\n",
            "8224/8224 [==============================] - 3s 369us/step - loss: 0.5851 - acc: 0.6947 - val_loss: 0.5952 - val_acc: 0.6817\n",
            "\n",
            "Epoch 00021: val_loss improved from 0.60048 to 0.59520, saving model to top-weights.hdf5\n",
            "Epoch 22/30\n",
            "8224/8224 [==============================] - 3s 372us/step - loss: 0.5821 - acc: 0.6939 - val_loss: 0.5977 - val_acc: 0.6750\n",
            "\n",
            "Epoch 00022: val_loss did not improve from 0.59520\n",
            "Epoch 23/30\n",
            "8224/8224 [==============================] - 3s 372us/step - loss: 0.5766 - acc: 0.7033 - val_loss: 0.5976 - val_acc: 0.6737\n",
            "\n",
            "Epoch 00023: val_loss did not improve from 0.59520\n",
            "Epoch 24/30\n",
            "8224/8224 [==============================] - 3s 382us/step - loss: 0.5748 - acc: 0.7009 - val_loss: 0.5968 - val_acc: 0.6781\n",
            "\n",
            "Epoch 00024: val_loss did not improve from 0.59520\n",
            "Epoch 25/30\n",
            "8224/8224 [==============================] - 3s 370us/step - loss: 0.5654 - acc: 0.7107 - val_loss: 0.5964 - val_acc: 0.6763\n",
            "\n",
            "Epoch 00025: val_loss did not improve from 0.59520\n",
            "Epoch 26/30\n",
            "8224/8224 [==============================] - 3s 368us/step - loss: 0.5537 - acc: 0.7169 - val_loss: 0.5949 - val_acc: 0.6746\n",
            "\n",
            "Epoch 00026: val_loss improved from 0.59520 to 0.59491, saving model to top-weights.hdf5\n",
            "Epoch 27/30\n",
            "8224/8224 [==============================] - 3s 375us/step - loss: 0.5528 - acc: 0.7229 - val_loss: 0.5955 - val_acc: 0.6732\n",
            "\n",
            "Epoch 00027: val_loss did not improve from 0.59491\n",
            "Epoch 28/30\n",
            "8224/8224 [==============================] - 3s 369us/step - loss: 0.5500 - acc: 0.7254 - val_loss: 0.5976 - val_acc: 0.6772\n",
            "\n",
            "Epoch 00028: val_loss did not improve from 0.59491\n",
            "Epoch 29/30\n",
            "8224/8224 [==============================] - 3s 368us/step - loss: 0.5426 - acc: 0.7275 - val_loss: 0.5964 - val_acc: 0.6786\n",
            "\n",
            "Epoch 00029: val_loss did not improve from 0.59491\n",
            "Epoch 30/30\n",
            "8224/8224 [==============================] - 3s 378us/step - loss: 0.5325 - acc: 0.7295 - val_loss: 0.5964 - val_acc: 0.6777\n",
            "\n",
            "Epoch 00030: val_loss did not improve from 0.59491\n"
          ],
          "name": "stdout"
        }
      ]
    },
    {
      "cell_type": "code",
      "metadata": {
        "id": "LjooFFpr_0-y",
        "colab_type": "code",
        "outputId": "6f76fc06-9f39-41b5-c7e4-96f24897f29d",
        "colab": {
          "base_uri": "https://localhost:8080/",
          "height": 573
        }
      },
      "source": [
        "%matplotlib inline\n",
        "from matplotlib import pyplot as plt\n",
        "\n",
        "plt.plot(history.history['acc'])\n",
        "plt.plot(history.history['val_acc'])\n",
        "plt.title('model accuracy')\n",
        "plt.ylabel('accuracy')\n",
        "plt.xlabel('epoch')\n",
        "plt.legend(['train', 'val'], loc='upper left')\n",
        "plt.show()\n",
        "\n",
        "plt.plot(history.history['loss'])\n",
        "plt.plot(history.history['val_loss'])\n",
        "plt.title('model loss')\n",
        "plt.ylabel('loss')\n",
        "plt.xlabel('epoch')\n",
        "plt.legend(['train', 'val'], loc='upper left')\n",
        "plt.show()"
      ],
      "execution_count": 0,
      "outputs": [
        {
          "output_type": "display_data",
          "data": {
            "image/png": "[encoded data removed]",
            "text/plain": [
              "<Figure size 432x288 with 1 Axes>"
            ]
          },
          "metadata": {
            "tags": []
          }
        },
        {
          "output_type": "display_data",
          "data": {
            "image/png": "[encoded data removed]",
            "text/plain": [
              "<Figure size 432x288 with 1 Axes>"
            ]
          },
          "metadata": {
            "tags": []
          }
        }
      ]
    },
    {
      "cell_type": "markdown",
      "metadata": {
        "id": "sW9c3R6aOyl2",
        "colab_type": "text"
      },
      "source": [
        "**Объединяем сверточные и полносвязные слои**"
      ]
    },
    {
      "cell_type": "code",
      "metadata": {
        "id": "yBNDmMY3l9bI",
        "colab_type": "code",
        "colab": {}
      },
      "source": [
        ""
      ],
      "execution_count": 0,
      "outputs": []
    },
    {
      "cell_type": "code",
      "metadata": {
        "id": "GLBg8jAfz8xU",
        "colab_type": "code",
        "outputId": "023f39c5-d5f6-4851-aaba-00fa9137724e",
        "colab": {
          "base_uri": "https://localhost:8080/",
          "height": 156
        }
      },
      "source": [
        "from keras.models import Model\n",
        "\n",
        "batch_size = 16\n",
        "epochs = 3\n",
        "\n",
        "input_tensor = Input(shape=(img_height,img_width,3))\n",
        "\n",
        "base_model =  MobileNetV2(weights='imagenet',\n",
        "                                            include_top=False,\n",
        "                                            input_shape=(img_width, img_height, 3),\n",
        "                                            pooling='avg')\n",
        "\n",
        "top_model = Sequential()\n",
        "    \n",
        "top_model.add(Dense(256, activation='relu', input_shape=base_model.output_shape[1:]))\n",
        "top_model.add(Dropout(0.5))\n",
        "\n",
        "top_model.add(Dense(128, activation='relu'))\n",
        "top_model.add(Dropout(0.5))  \n",
        "\n",
        "top_model.add(Dense(64, activation='relu'))\n",
        "top_model.add(Dropout(0.5))  \n",
        "\n",
        "top_model.add(Dense(1, activation='sigmoid'))\n",
        "\n",
        "top_model.load_weights('top-weights.hdf5')\n",
        "\n",
        "model = Model(inputs=base_model.input, outputs=top_model(base_model.output))\n",
        "\n",
        "model.compile(optimizer=SGD(lr=0.005, momentum=0.1, nesterov=True),\n",
        "              loss='binary_crossentropy',\n",
        "              metrics=['accuracy'])\n",
        "\n",
        "\n",
        "checkpointer = ModelCheckpoint(filepath='weights.hdf5', verbose=1, save_best_only=True)\n",
        "\n",
        "train_datagen = image.ImageDataGenerator(\n",
        "        rescale=1./255,\n",
        "        shear_range=0.2,\n",
        "        zoom_range=0.2,\n",
        "        horizontal_flip=True)\n",
        "\n",
        "test_datagen = image.ImageDataGenerator(rescale=1./255)\n",
        "\n",
        "train_generator = train_datagen.flow_from_directory(\n",
        "        train_data_dir,\n",
        "        target_size=(img_height, img_width),\n",
        "        batch_size=batch_size,\n",
        "        class_mode='binary')\n",
        "\n",
        "validation_generator = test_datagen.flow_from_directory(\n",
        "        validation_data_dir,\n",
        "        target_size=(img_height, img_width),\n",
        "        batch_size=batch_size,\n",
        "        class_mode='binary')\n",
        "\n",
        "history = model.fit_generator(train_generator,\n",
        "                            steps_per_epoch=nb_train_samples // batch_size,\n",
        "                            epochs=epochs,\n",
        "                            validation_data=validation_generator,\n",
        "                            validation_steps=nb_validation_samples // batch_size)"
      ],
      "execution_count": 0,
      "outputs": [
        {
          "output_type": "stream",
          "text": [
            "Found 8224 images belonging to 2 classes.\n",
            "Found 2240 images belonging to 2 classes.\n",
            "Epoch 1/3\n",
            "514/514 [==============================] - 249s 485ms/step - loss: 0.6339 - acc: 0.6457 - val_loss: 0.5918 - val_acc: 0.6884\n",
            "Epoch 2/3\n",
            "514/514 [==============================] - 233s 454ms/step - loss: 0.5803 - acc: 0.6956 - val_loss: 0.6525 - val_acc: 0.6281\n",
            "Epoch 3/3\n",
            "514/514 [==============================] - 233s 454ms/step - loss: 0.5451 - acc: 0.7263 - val_loss: 0.6177 - val_acc: 0.6897\n"
          ],
          "name": "stdout"
        }
      ]
    },
    {
      "cell_type": "markdown",
      "metadata": {
        "id": "EiD9A9V_PFhl",
        "colab_type": "text"
      },
      "source": [
        "**Тестируем полученную сеть**"
      ]
    },
    {
      "cell_type": "code",
      "metadata": {
        "id": "bPkKI4WJmMFF",
        "colab_type": "code",
        "outputId": "4443ab8a-5155-4e1d-92f5-2ba44d4475e2",
        "colab": {
          "base_uri": "https://localhost:8080/",
          "height": 52
        }
      },
      "source": [
        "test_generator = data_generator.flow_from_directory(\n",
        "    test_data_dir,\n",
        "    target_size=(img_height, img_width),\n",
        "    batch_size=batch_size,\n",
        "    class_mode='binary',\n",
        "    shuffle=False)\n",
        "\n",
        "score = model.evaluate_generator(test_generator, batch_size)\n",
        "\n",
        "print(\"Loss: \", score[0], \"Accuracy: \", score[1])"
      ],
      "execution_count": 0,
      "outputs": [
        {
          "output_type": "stream",
          "text": [
            "Found 2401 images belonging to 2 classes.\n",
            "Loss:  0.4421754740178585 Accuracy:  0.76953125\n"
          ],
          "name": "stdout"
        }
      ]
    },
    {
      "cell_type": "markdown",
      "metadata": {
        "id": "nbDD4tT2PeZK",
        "colab_type": "text"
      },
      "source": [
        "**Сохраняем лучшие веса сети**"
      ]
    },
    {
      "cell_type": "code",
      "metadata": {
        "id": "AZJRzFTu0Vef",
        "colab_type": "code",
        "colab": {}
      },
      "source": [
        "model.save('fake_orig_mobilnet_v1.h5')"
      ],
      "execution_count": 0,
      "outputs": []
    },
    {
      "cell_type": "code",
      "metadata": {
        "id": "lQdQkuin497A",
        "colab_type": "code",
        "colab": {}
      },
      "source": [
        ""
      ],
      "execution_count": 0,
      "outputs": []
    }
  ]
}