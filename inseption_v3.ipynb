{
  "nbformat": 4,
  "nbformat_minor": 0,
  "metadata": {
    "colab": {
      "name": "inseption_v3.ipynb",
      "provenance": [],
      "collapsed_sections": [],
      "include_colab_link": true
    },
    "kernelspec": {
      "name": "python3",
      "display_name": "Python 3"
    },
    "accelerator": "GPU"
  },
  "cells": [
    {
      "cell_type": "markdown",
      "metadata": {
        "id": "view-in-github",
        "colab_type": "text"
      },
      "source": [
        "<a href=\"https://colab.research.google.com/github/kristin-hub/nn/blob/master/inseption_v3.ipynb\" target=\"_parent\"><img src=\"https://colab.research.google.com/assets/colab-badge.svg\" alt=\"Open In Colab\"/></a>"
      ]
    },
    {
      "cell_type": "markdown",
      "metadata": {
        "id": "z-Wb-GxXQxSA",
        "colab_type": "text"
      },
      "source": [
        "**Подключаем датасет с гугл диска**"
      ]
    },
    {
      "cell_type": "code",
      "metadata": {
        "id": "btg-Fwix6Q8f",
        "colab_type": "code",
        "colab": {}
      },
      "source": [
        ""
      ],
      "execution_count": 0,
      "outputs": []
    },
    {
      "cell_type": "code",
      "metadata": {
        "id": "FJ0tjFVrzzfm",
        "colab_type": "code",
        "outputId": "97c2cccd-c356-4a29-e66c-e259b50e49e3",
        "colab": {
          "base_uri": "https://localhost:8080/",
          "height": 124
        }
      },
      "source": [
        "from google.colab import drive\n",
        "drive.mount('/content/drive')"
      ],
      "execution_count": 0,
      "outputs": [
        {
          "output_type": "stream",
          "text": [
            "Go to this URL in a browser: https://accounts.google.com/o/oauth2/auth?client_id=947318989803-6bn6qk8qdgf4n4g3pfee6491hc0brc4i.apps.googleusercontent.com&redirect_uri=urn%3Aietf%3Awg%3Aoauth%3A2.0%3Aoob&scope=email%20https%3A%2F%2Fwww.googleapis.com%2Fauth%2Fdocs.test%20https%3A%2F%2Fwww.googleapis.com%2Fauth%2Fdrive%20https%3A%2F%2Fwww.googleapis.com%2Fauth%2Fdrive.photos.readonly%20https%3A%2F%2Fwww.googleapis.com%2Fauth%2Fpeopleapi.readonly&response_type=code\n",
            "\n",
            "Enter your authorization code:\n",
            "··········\n",
            "Mounted at /content/drive\n"
          ],
          "name": "stdout"
        }
      ]
    },
    {
      "cell_type": "code",
      "metadata": {
        "id": "cF7tAvgxz8Ts",
        "colab_type": "code",
        "colab": {}
      },
      "source": [
        "from os import listdir, rename\n",
        "from os.path import isfile, join\n",
        "\n",
        "source_dir = 'drive/My Drive/data'\n",
        "train_dir = 'drive/My Drive/data/train'\n",
        "validation_dir = 'drive/My Drive/data/validation'\n",
        "test_dir = 'drive/My Drive/data/test'\n",
        "\n",
        "fake_dir = 'fake'\n",
        "orig_dir = 'orig'\n",
        "\n",
        "images = [f for f in listdir(source_dir) if isfile(join(source_dir, f))]"
      ],
      "execution_count": 0,
      "outputs": []
    },
    {
      "cell_type": "code",
      "metadata": {
        "id": "xVEXD5l90HjE",
        "colab_type": "code",
        "colab": {}
      },
      "source": [
        "import numpy as np\n",
        "import tensorflow as tf\n",
        "\n",
        "from keras.backend.tensorflow_backend import set_session\n",
        "\n",
        "np.random.seed(0)\n",
        "tf.set_random_seed(0)\n",
        "\n",
        "config = tf.ConfigProto()\n",
        "config.gpu_options.allow_growth = True\n",
        "set_session(tf.Session(config=config))\n"
      ],
      "execution_count": 0,
      "outputs": []
    },
    {
      "cell_type": "markdown",
      "metadata": {
        "id": "4O5QN1TiTG5W",
        "colab_type": "text"
      },
      "source": [
        "**Проверяем включена ли GPU**"
      ]
    },
    {
      "cell_type": "code",
      "metadata": {
        "id": "RdcgcrJT0OcF",
        "colab_type": "code",
        "outputId": "32efbd13-2d49-4ebe-e3f9-6b66b2b04bf0",
        "colab": {
          "base_uri": "https://localhost:8080/",
          "height": 555
        }
      },
      "source": [
        "from tensorflow.python.client import device_lib\n",
        "print(device_lib.list_local_devices())"
      ],
      "execution_count": 0,
      "outputs": [
        {
          "output_type": "stream",
          "text": [
            "[name: \"/device:CPU:0\"\n",
            "device_type: \"CPU\"\n",
            "memory_limit: 268435456\n",
            "locality {\n",
            "}\n",
            "incarnation: 12295810259812409602\n",
            ", name: \"/device:XLA_CPU:0\"\n",
            "device_type: \"XLA_CPU\"\n",
            "memory_limit: 17179869184\n",
            "locality {\n",
            "}\n",
            "incarnation: 9001156689673678137\n",
            "physical_device_desc: \"device: XLA_CPU device\"\n",
            ", name: \"/device:XLA_GPU:0\"\n",
            "device_type: \"XLA_GPU\"\n",
            "memory_limit: 17179869184\n",
            "locality {\n",
            "}\n",
            "incarnation: 18175008934056178820\n",
            "physical_device_desc: \"device: XLA_GPU device\"\n",
            ", name: \"/device:GPU:0\"\n",
            "device_type: \"GPU\"\n",
            "memory_limit: 15955850036\n",
            "locality {\n",
            "  bus_id: 1\n",
            "  links {\n",
            "  }\n",
            "}\n",
            "incarnation: 1464200412313604714\n",
            "physical_device_desc: \"device: 0, name: Tesla P100-PCIE-16GB, pci bus id: 0000:00:04.0, compute capability: 6.0\"\n",
            "]\n"
          ],
          "name": "stdout"
        }
      ]
    },
    {
      "cell_type": "code",
      "metadata": {
        "id": "0E1aUmrE0fjb",
        "colab_type": "code",
        "colab": {}
      },
      "source": [
        "train_data_dir = 'drive/My Drive/data/train'\n",
        "test_data_dir = 'drive/My Drive/data/test'\n",
        "validation_data_dir = 'drive/My Drive/data/validation'\n",
        "\n",
        "img_height = 299\n",
        "img_width = 299\n",
        "\n",
        "batch_size = 16\n",
        "epochs = 25\n",
        "\n",
        "train_first_class = 4112\n",
        "train_second_class = 4112\n",
        "\n",
        "val_first_class = 1120\n",
        "val_second_class = 1120\n",
        "\n",
        "nb_train_samples = train_first_class + train_second_class\n",
        "nb_validation_samples = val_first_class + val_second_class\n"
      ],
      "execution_count": 0,
      "outputs": []
    },
    {
      "cell_type": "code",
      "metadata": {
        "id": "YJu2VcsbHPK0",
        "colab_type": "code",
        "colab": {}
      },
      "source": [
        ""
      ],
      "execution_count": 0,
      "outputs": []
    },
    {
      "cell_type": "markdown",
      "metadata": {
        "id": "4QiONDpoD63O",
        "colab_type": "text"
      },
      "source": [
        "**Прогоняем наш датасет через сверточные слои предобученной сети Xception, чтобы получить признаки и сохраняем их**"
      ]
    },
    {
      "cell_type": "code",
      "metadata": {
        "id": "U-0UpJkR1X6n",
        "colab_type": "code",
        "outputId": "e5ab414a-fdb4-47cb-c879-f337e0354246",
        "colab": {
          "base_uri": "https://localhost:8080/",
          "height": 211
        }
      },
      "source": [
        "from keras.layers import Input\n",
        "from keras.applications.inception_v3 import InceptionV3\n",
        "from keras.preprocessing import image\n",
        "\n",
        "input_tensor = Input(shape=(img_height,img_width,3))\n",
        "\n",
        "base_model = InceptionV3(weights='imagenet',\n",
        "                          include_top=False,\n",
        "                          input_shape=(img_width, img_height, 3),\n",
        "                          pooling='avg')\n",
        "\n",
        "data_generator = image.ImageDataGenerator(rescale=1. / 255)\n",
        "\n",
        "train_generator = data_generator.flow_from_directory(\n",
        "    train_data_dir,\n",
        "    target_size=(img_height, img_width),\n",
        "    batch_size=batch_size,\n",
        "    class_mode=None,\n",
        "    shuffle=False)\n",
        "\n",
        "bottleneck_features_train = base_model.predict_generator(\n",
        "        train_generator, \n",
        "        nb_train_samples // batch_size)\n",
        "\n",
        "print('Prediction of the training set finished.')\n",
        "\n",
        "np.save(open('bottleneck_features_train.npy', 'wb'),\n",
        "            bottleneck_features_train)\n",
        "\n",
        "validation_generator = data_generator.flow_from_directory(\n",
        "    validation_data_dir,\n",
        "    target_size=(img_height, img_width),\n",
        "    batch_size=batch_size,\n",
        "    class_mode=None,\n",
        "    shuffle=False)\n",
        "\n",
        "bottleneck_features_validation = base_model.predict_generator(\n",
        "        validation_generator, \n",
        "        nb_validation_samples // batch_size)\n",
        "\n",
        "print('Prediction of the validation set finished.')\n",
        "\n",
        "np.save(open('bottleneck_features_validation.npy', 'wb'),\n",
        "            bottleneck_features_validation)"
      ],
      "execution_count": 0,
      "outputs": [
        {
          "output_type": "stream",
          "text": [
            "Found 8224 images belonging to 2 classes.\n"
          ],
          "name": "stdout"
        },
        {
          "output_type": "stream",
          "text": [
            "/usr/local/lib/python3.6/dist-packages/keras/utils/data_utils.py:610: UserWarning: The input 205 could not be retrieved. It could be because a worker has died.\n",
            "  UserWarning)\n",
            "/usr/local/lib/python3.6/dist-packages/keras/utils/data_utils.py:610: UserWarning: The input 304 could not be retrieved. It could be because a worker has died.\n",
            "  UserWarning)\n",
            "/usr/local/lib/python3.6/dist-packages/keras/utils/data_utils.py:610: UserWarning: The input 474 could not be retrieved. It could be because a worker has died.\n",
            "  UserWarning)\n"
          ],
          "name": "stderr"
        },
        {
          "output_type": "stream",
          "text": [
            "Prediction of the training set finished.\n",
            "Found 2240 images belonging to 2 classes.\n",
            "Prediction of the validation set finished.\n"
          ],
          "name": "stdout"
        }
      ]
    },
    {
      "cell_type": "code",
      "metadata": {
        "id": "G-AdPmFKFKN3",
        "colab_type": "code",
        "colab": {}
      },
      "source": [
        ""
      ],
      "execution_count": 0,
      "outputs": []
    },
    {
      "cell_type": "code",
      "metadata": {
        "id": "HuCox5Ev1sWz",
        "colab_type": "code",
        "colab": {}
      },
      "source": [
        "train_data = np.load(open('bottleneck_features_train.npy', 'rb'))\n",
        "train_labels = np.array([0] * train_first_class + [1] * train_second_class)\n",
        "\n",
        "validation_data = np.load(open('bottleneck_features_validation.npy', 'rb'))\n",
        "validation_labels = np.array([0] * (val_first_class) + [1] * (val_second_class))"
      ],
      "execution_count": 0,
      "outputs": []
    },
    {
      "cell_type": "markdown",
      "metadata": {
        "id": "NivdVMbkN5yz",
        "colab_type": "text"
      },
      "source": [
        "**Создадим полносвязные слои и обучим их на полученных признаках**"
      ]
    },
    {
      "cell_type": "code",
      "metadata": {
        "id": "t0bhS3d3_whU",
        "colab_type": "code",
        "outputId": "2e2300e8-cb36-4ad8-9efe-5900c942ad72",
        "colab": {
          "base_uri": "https://localhost:8080/",
          "height": 1000
        }
      },
      "source": [
        "from keras.models import Sequential\n",
        "from keras.callbacks import ModelCheckpoint\n",
        "from keras.optimizers import SGD\n",
        "from keras.layers import Dropout, Dense\n",
        "\n",
        "model = Sequential()\n",
        "    \n",
        "model.add(Dense(256, activation='relu', input_shape=base_model.output_shape[1:]))\n",
        "model.add(Dropout(0.5))\n",
        "\n",
        "model.add(Dense(128, activation='relu'))\n",
        "model.add(Dropout(0.5))    \n",
        "\n",
        "model.add(Dense(64, activation='relu'))\n",
        "model.add(Dropout(0.5))   \n",
        "\n",
        "model.add(Dense(1, activation='sigmoid'))\n",
        "\n",
        "model.compile(optimizer=SGD(lr=0.005),\n",
        "              loss='binary_crossentropy',\n",
        "              metrics=['accuracy'])\n",
        "\n",
        "checkpointer = ModelCheckpoint(filepath='top-weights.hdf5', verbose=1, save_best_only=True)\n",
        "\n",
        "history = model.fit(train_data,\n",
        "                    train_labels,\n",
        "                    epochs=epochs,\n",
        "                    batch_size=batch_size,\n",
        "                    callbacks=[checkpointer],\n",
        "                    validation_data=(validation_data, validation_labels))"
      ],
      "execution_count": 0,
      "outputs": [
        {
          "output_type": "stream",
          "text": [
            "Train on 8224 samples, validate on 2240 samples\n",
            "Epoch 1/25\n",
            "8224/8224 [==============================] - 5s 626us/step - loss: 0.7254 - acc: 0.5173 - val_loss: 0.6878 - val_acc: 0.5183\n",
            "\n",
            "Epoch 00001: val_loss improved from inf to 0.68782, saving model to top-weights.hdf5\n",
            "Epoch 2/25\n",
            "8224/8224 [==============================] - 2s 288us/step - loss: 0.6999 - acc: 0.5180 - val_loss: 0.6809 - val_acc: 0.5563\n",
            "\n",
            "Epoch 00002: val_loss improved from 0.68782 to 0.68093, saving model to top-weights.hdf5\n",
            "Epoch 3/25\n",
            "8224/8224 [==============================] - 2s 296us/step - loss: 0.6852 - acc: 0.5497 - val_loss: 0.6725 - val_acc: 0.5906\n",
            "\n",
            "Epoch 00003: val_loss improved from 0.68093 to 0.67246, saving model to top-weights.hdf5\n",
            "Epoch 4/25\n",
            "8224/8224 [==============================] - 2s 293us/step - loss: 0.6801 - acc: 0.5636 - val_loss: 0.6606 - val_acc: 0.6232\n",
            "\n",
            "Epoch 00004: val_loss improved from 0.67246 to 0.66063, saving model to top-weights.hdf5\n",
            "Epoch 5/25\n",
            "8224/8224 [==============================] - 2s 289us/step - loss: 0.6734 - acc: 0.5789 - val_loss: 0.6512 - val_acc: 0.6455\n",
            "\n",
            "Epoch 00005: val_loss improved from 0.66063 to 0.65125, saving model to top-weights.hdf5\n",
            "Epoch 6/25\n",
            "8224/8224 [==============================] - 2s 300us/step - loss: 0.6609 - acc: 0.6083 - val_loss: 0.6369 - val_acc: 0.6509\n",
            "\n",
            "Epoch 00006: val_loss improved from 0.65125 to 0.63689, saving model to top-weights.hdf5\n",
            "Epoch 7/25\n",
            "8224/8224 [==============================] - 2s 293us/step - loss: 0.6501 - acc: 0.6214 - val_loss: 0.6303 - val_acc: 0.6585\n",
            "\n",
            "Epoch 00007: val_loss improved from 0.63689 to 0.63032, saving model to top-weights.hdf5\n",
            "Epoch 8/25\n",
            "8224/8224 [==============================] - 2s 284us/step - loss: 0.6418 - acc: 0.6307 - val_loss: 0.6153 - val_acc: 0.6857\n",
            "\n",
            "Epoch 00008: val_loss improved from 0.63032 to 0.61527, saving model to top-weights.hdf5\n",
            "Epoch 9/25\n",
            "8224/8224 [==============================] - 2s 290us/step - loss: 0.6354 - acc: 0.6487 - val_loss: 0.6169 - val_acc: 0.6714\n",
            "\n",
            "Epoch 00009: val_loss did not improve from 0.61527\n",
            "Epoch 10/25\n",
            "8224/8224 [==============================] - 2s 293us/step - loss: 0.6242 - acc: 0.6583 - val_loss: 0.5991 - val_acc: 0.6902\n",
            "\n",
            "Epoch 00010: val_loss improved from 0.61527 to 0.59905, saving model to top-weights.hdf5\n",
            "Epoch 11/25\n",
            "8224/8224 [==============================] - 2s 285us/step - loss: 0.6159 - acc: 0.6639 - val_loss: 0.6017 - val_acc: 0.6746\n",
            "\n",
            "Epoch 00011: val_loss did not improve from 0.59905\n",
            "Epoch 12/25\n",
            "8224/8224 [==============================] - 2s 285us/step - loss: 0.6059 - acc: 0.6778 - val_loss: 0.5949 - val_acc: 0.6804\n",
            "\n",
            "Epoch 00012: val_loss improved from 0.59905 to 0.59485, saving model to top-weights.hdf5\n",
            "Epoch 13/25\n",
            "8224/8224 [==============================] - 2s 293us/step - loss: 0.5993 - acc: 0.6821 - val_loss: 0.5865 - val_acc: 0.7040\n",
            "\n",
            "Epoch 00013: val_loss improved from 0.59485 to 0.58651, saving model to top-weights.hdf5\n",
            "Epoch 14/25\n",
            "8224/8224 [==============================] - 2s 300us/step - loss: 0.5938 - acc: 0.6908 - val_loss: 0.5842 - val_acc: 0.7004\n",
            "\n",
            "Epoch 00014: val_loss improved from 0.58651 to 0.58421, saving model to top-weights.hdf5\n",
            "Epoch 15/25\n",
            "8224/8224 [==============================] - 2s 289us/step - loss: 0.5892 - acc: 0.6961 - val_loss: 0.5837 - val_acc: 0.6996\n",
            "\n",
            "Epoch 00015: val_loss improved from 0.58421 to 0.58369, saving model to top-weights.hdf5\n",
            "Epoch 16/25\n",
            "8224/8224 [==============================] - 2s 297us/step - loss: 0.5812 - acc: 0.7074 - val_loss: 0.5800 - val_acc: 0.7076\n",
            "\n",
            "Epoch 00016: val_loss improved from 0.58369 to 0.58002, saving model to top-weights.hdf5\n",
            "Epoch 17/25\n",
            "8224/8224 [==============================] - 2s 295us/step - loss: 0.5700 - acc: 0.7063 - val_loss: 0.5914 - val_acc: 0.6746\n",
            "\n",
            "Epoch 00017: val_loss did not improve from 0.58002\n",
            "Epoch 18/25\n",
            "8224/8224 [==============================] - 2s 303us/step - loss: 0.5672 - acc: 0.7152 - val_loss: 0.5758 - val_acc: 0.6996\n",
            "\n",
            "Epoch 00018: val_loss improved from 0.58002 to 0.57579, saving model to top-weights.hdf5\n",
            "Epoch 19/25\n",
            "8224/8224 [==============================] - 2s 290us/step - loss: 0.5627 - acc: 0.7198 - val_loss: 0.5808 - val_acc: 0.6933\n",
            "\n",
            "Epoch 00019: val_loss did not improve from 0.57579\n",
            "Epoch 20/25\n",
            "8224/8224 [==============================] - 2s 287us/step - loss: 0.5526 - acc: 0.7212 - val_loss: 0.5763 - val_acc: 0.7045\n",
            "\n",
            "Epoch 00020: val_loss did not improve from 0.57579\n",
            "Epoch 21/25\n",
            "8224/8224 [==============================] - 2s 297us/step - loss: 0.5481 - acc: 0.7325 - val_loss: 0.5746 - val_acc: 0.7004\n",
            "\n",
            "Epoch 00021: val_loss improved from 0.57579 to 0.57462, saving model to top-weights.hdf5\n",
            "Epoch 22/25\n",
            "8224/8224 [==============================] - 2s 293us/step - loss: 0.5420 - acc: 0.7353 - val_loss: 0.5749 - val_acc: 0.6964\n",
            "\n",
            "Epoch 00022: val_loss did not improve from 0.57462\n",
            "Epoch 23/25\n",
            "8224/8224 [==============================] - 2s 296us/step - loss: 0.5350 - acc: 0.7346 - val_loss: 0.5747 - val_acc: 0.6978\n",
            "\n",
            "Epoch 00023: val_loss did not improve from 0.57462\n",
            "Epoch 24/25\n",
            "8224/8224 [==============================] - 2s 295us/step - loss: 0.5245 - acc: 0.7420 - val_loss: 0.5757 - val_acc: 0.7040\n",
            "\n",
            "Epoch 00024: val_loss did not improve from 0.57462\n",
            "Epoch 25/25\n",
            "8224/8224 [==============================] - 2s 287us/step - loss: 0.5212 - acc: 0.7506 - val_loss: 0.5774 - val_acc: 0.7009\n",
            "\n",
            "Epoch 00025: val_loss did not improve from 0.57462\n"
          ],
          "name": "stdout"
        }
      ]
    },
    {
      "cell_type": "code",
      "metadata": {
        "id": "LjooFFpr_0-y",
        "colab_type": "code",
        "outputId": "215592a8-3b8e-4edd-ac4b-e3a2fc3b2a91",
        "colab": {
          "base_uri": "https://localhost:8080/",
          "height": 573
        }
      },
      "source": [
        "%matplotlib inline\n",
        "from matplotlib import pyplot as plt\n",
        "\n",
        "plt.plot(history.history['acc'])\n",
        "plt.plot(history.history['val_acc'])\n",
        "plt.title('model accuracy')\n",
        "plt.ylabel('accuracy')\n",
        "plt.xlabel('epoch')\n",
        "plt.legend(['train', 'val'], loc='upper left')\n",
        "plt.show()\n",
        "\n",
        "plt.plot(history.history['loss'])\n",
        "plt.plot(history.history['val_loss'])\n",
        "plt.title('model loss')\n",
        "plt.ylabel('loss')\n",
        "plt.xlabel('epoch')\n",
        "plt.legend(['train', 'val'], loc='upper left')\n",
        "plt.show()"
      ],
      "execution_count": 0,
      "outputs": [
        {
          "output_type": "display_data",
          "data": {
            "image/png": "[encoded data removed]",
            "text/plain": [
              "<Figure size 432x288 with 1 Axes>"
            ]
          },
          "metadata": {
            "tags": []
          }
        },
        {
          "output_type": "display_data",
          "data": {
            "image/png": "[encoded data removed]",
            "text/plain": [
              "<Figure size 432x288 with 1 Axes>"
            ]
          },
          "metadata": {
            "tags": []
          }
        }
      ]
    },
    {
      "cell_type": "markdown",
      "metadata": {
        "id": "sW9c3R6aOyl2",
        "colab_type": "text"
      },
      "source": [
        "**Объединяем сверточные и полносвязные слои**"
      ]
    },
    {
      "cell_type": "code",
      "metadata": {
        "id": "yBNDmMY3l9bI",
        "colab_type": "code",
        "colab": {}
      },
      "source": [
        ""
      ],
      "execution_count": 0,
      "outputs": []
    },
    {
      "cell_type": "code",
      "metadata": {
        "id": "GLBg8jAfz8xU",
        "colab_type": "code",
        "outputId": "2990c64f-e86a-494d-fe0f-9856e3f8fd7a",
        "colab": {
          "base_uri": "https://localhost:8080/",
          "height": 191
        }
      },
      "source": [
        "from keras.models import Model\n",
        "\n",
        "batch_size = 16\n",
        "epochs = 4\n",
        "\n",
        "input_tensor = Input(shape=(img_height,img_width,3))\n",
        "\n",
        "base_model =  InceptionV3(weights='imagenet',\n",
        "                                            include_top=False,\n",
        "                                            input_shape=(img_width, img_height, 3),\n",
        "                                            pooling='avg')\n",
        "\n",
        "top_model = Sequential()\n",
        "    \n",
        "top_model.add(Dense(256, activation='relu', input_shape=base_model.output_shape[1:]))\n",
        "top_model.add(Dropout(0.5))\n",
        "\n",
        "top_model.add(Dense(128, activation='relu'))\n",
        "top_model.add(Dropout(0.5))  \n",
        "\n",
        "top_model.add(Dense(64, activation='relu'))\n",
        "top_model.add(Dropout(0.5))  \n",
        "\n",
        "top_model.add(Dense(1, activation='sigmoid'))\n",
        "\n",
        "top_model.load_weights('top-weights.hdf5')\n",
        "\n",
        "model = Model(inputs=base_model.input, outputs=top_model(base_model.output))\n",
        "\n",
        "model.compile(optimizer=SGD(lr=0.005, momentum=0.1, nesterov=True),\n",
        "              loss='binary_crossentropy',\n",
        "              metrics=['accuracy'])\n",
        "\n",
        "\n",
        "checkpointer = ModelCheckpoint(filepath='weights.hdf5', verbose=1, save_best_only=True)\n",
        "\n",
        "train_datagen = image.ImageDataGenerator(\n",
        "        rescale=1./255,\n",
        "        shear_range=0.2,\n",
        "        zoom_range=0.2,\n",
        "        horizontal_flip=True)\n",
        "\n",
        "test_datagen = image.ImageDataGenerator(rescale=1./255)\n",
        "\n",
        "train_generator = train_datagen.flow_from_directory(\n",
        "        train_data_dir,\n",
        "        target_size=(img_height, img_width),\n",
        "        batch_size=batch_size,\n",
        "        class_mode='binary')\n",
        "\n",
        "validation_generator = test_datagen.flow_from_directory(\n",
        "        validation_data_dir,\n",
        "        target_size=(img_height, img_width),\n",
        "        batch_size=batch_size,\n",
        "        class_mode='binary')\n",
        "\n",
        "history = model.fit_generator(train_generator,\n",
        "                            steps_per_epoch=nb_train_samples // batch_size,\n",
        "                            epochs=epochs,\n",
        "                            validation_data=validation_generator,\n",
        "                            validation_steps=nb_validation_samples // batch_size)"
      ],
      "execution_count": 0,
      "outputs": [
        {
          "output_type": "stream",
          "text": [
            "Found 8224 images belonging to 2 classes.\n",
            "Found 2240 images belonging to 2 classes.\n",
            "Epoch 1/4\n",
            "514/514 [==============================] - 271s 527ms/step - loss: 0.5977 - acc: 0.6848 - val_loss: 0.6394 - val_acc: 0.6335\n",
            "Epoch 2/4\n",
            "514/514 [==============================] - 251s 488ms/step - loss: 0.5291 - acc: 0.7449 - val_loss: 0.5635 - val_acc: 0.7067\n",
            "Epoch 3/4\n",
            "514/514 [==============================] - 251s 488ms/step - loss: 0.4714 - acc: 0.7864 - val_loss: 0.5478 - val_acc: 0.7272\n",
            "Epoch 4/4\n",
            "514/514 [==============================] - 251s 488ms/step - loss: 0.4355 - acc: 0.8045 - val_loss: 0.5403 - val_acc: 0.7433\n"
          ],
          "name": "stdout"
        }
      ]
    },
    {
      "cell_type": "markdown",
      "metadata": {
        "id": "EiD9A9V_PFhl",
        "colab_type": "text"
      },
      "source": [
        "**Тестируем полученную сеть**"
      ]
    },
    {
      "cell_type": "code",
      "metadata": {
        "id": "bPkKI4WJmMFF",
        "colab_type": "code",
        "outputId": "45f2a600-4b60-47b6-cd89-163eefa46316",
        "colab": {
          "base_uri": "https://localhost:8080/",
          "height": 52
        }
      },
      "source": [
        "test_generator = data_generator.flow_from_directory(\n",
        "    test_data_dir,\n",
        "    target_size=(img_height, img_width),\n",
        "    batch_size=batch_size,\n",
        "    class_mode='binary',\n",
        "    shuffle=False)\n",
        "\n",
        "score = model.evaluate_generator(test_generator, batch_size)\n",
        "\n",
        "print(\"Loss: \", score[0], \"Accuracy: \", score[1])"
      ],
      "execution_count": 0,
      "outputs": [
        {
          "output_type": "stream",
          "text": [
            "Found 2401 images belonging to 2 classes.\n",
            "Loss:  0.34214732982218266 Accuracy:  0.83984375\n"
          ],
          "name": "stdout"
        }
      ]
    },
    {
      "cell_type": "markdown",
      "metadata": {
        "id": "nbDD4tT2PeZK",
        "colab_type": "text"
      },
      "source": [
        "**Сохраняем лучшие веса сети**"
      ]
    },
    {
      "cell_type": "code",
      "metadata": {
        "id": "AZJRzFTu0Vef",
        "colab_type": "code",
        "colab": {}
      },
      "source": [
        "model.save('fake_orig_inseption_v1.h5')"
      ],
      "execution_count": 0,
      "outputs": []
    },
    {
      "cell_type": "code",
      "metadata": {
        "id": "lQdQkuin497A",
        "colab_type": "code",
        "colab": {}
      },
      "source": [
        ""
      ],
      "execution_count": 0,
      "outputs": []
    }
  ]
}