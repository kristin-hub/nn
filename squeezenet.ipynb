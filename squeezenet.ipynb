{
  "nbformat": 4,
  "nbformat_minor": 0,
  "metadata": {
    "colab": {
      "name": "squeezenet.ipynb",
      "provenance": [],
      "collapsed_sections": [],
      "include_colab_link": true
    },
    "kernelspec": {
      "name": "python3",
      "display_name": "Python 3"
    },
    "accelerator": "GPU"
  },
  "cells": [
    {
      "cell_type": "markdown",
      "metadata": {
        "id": "view-in-github",
        "colab_type": "text"
      },
      "source": [
        "<a href=\"https://colab.research.google.com/github/kristin-hub/nn/blob/master/22squeezenet.ipynb\" target=\"_parent\"><img src=\"https://colab.research.google.com/assets/colab-badge.svg\" alt=\"Open In Colab\"/></a>"
      ]
    },
    {
      "cell_type": "markdown",
      "metadata": {
        "id": "z-Wb-GxXQxSA",
        "colab_type": "text"
      },
      "source": [
        "**Подключаем датасет с гугл диска**"
      ]
    },
    {
      "cell_type": "code",
      "metadata": {
        "id": "btg-Fwix6Q8f",
        "colab_type": "code",
        "outputId": "be0a1f32-1e1a-46fd-b5be-201666001f1b",
        "colab": {
          "base_uri": "https://localhost:8080/",
          "height": 1000
        }
      },
      "source": [
        "# Most Recent One\n",
        "!pip install git+https://github.com/rcmalli/keras-squeezenet.git\n",
        "# Release Version\n",
        "!pip install keras_squeezenet"
      ],
      "execution_count": 0,
      "outputs": [
        {
          "output_type": "stream",
          "text": [
            "Collecting git+https://github.com/rcmalli/keras-squeezenet.git\n",
            "  Cloning https://github.com/rcmalli/keras-squeezenet.git to /tmp/pip-req-build-uzisazaj\n",
            "  Running command git clone -q https://github.com/rcmalli/keras-squeezenet.git /tmp/pip-req-build-uzisazaj\n",
            "Requirement already satisfied: numpy>=1.9.1 in /usr/local/lib/python3.6/dist-packages (from keras-squeezenet==0.4) (1.17.4)\n",
            "Requirement already satisfied: scipy>=0.14 in /usr/local/lib/python3.6/dist-packages (from keras-squeezenet==0.4) (1.3.2)\n",
            "Requirement already satisfied: h5py in /usr/local/lib/python3.6/dist-packages (from keras-squeezenet==0.4) (2.8.0)\n",
            "Requirement already satisfied: tensorflow in /usr/local/lib/python3.6/dist-packages (from keras-squeezenet==0.4) (1.15.0)\n",
            "Requirement already satisfied: keras in /usr/local/lib/python3.6/dist-packages (from keras-squeezenet==0.4) (2.2.5)\n",
            "Requirement already satisfied: six>=1.9.0 in /usr/local/lib/python3.6/dist-packages (from keras-squeezenet==0.4) (1.12.0)\n",
            "Requirement already satisfied: pyyaml in /usr/local/lib/python3.6/dist-packages (from keras-squeezenet==0.4) (3.13)\n",
            "Requirement already satisfied: keras-applications>=1.0.8 in /usr/local/lib/python3.6/dist-packages (from tensorflow->keras-squeezenet==0.4) (1.0.8)\n",
            "Requirement already satisfied: tensorflow-estimator==1.15.1 in /usr/local/lib/python3.6/dist-packages (from tensorflow->keras-squeezenet==0.4) (1.15.1)\n",
            "Requirement already satisfied: opt-einsum>=2.3.2 in /usr/local/lib/python3.6/dist-packages (from tensorflow->keras-squeezenet==0.4) (3.1.0)\n",
            "Requirement already satisfied: tensorboard<1.16.0,>=1.15.0 in /usr/local/lib/python3.6/dist-packages (from tensorflow->keras-squeezenet==0.4) (1.15.0)\n",
            "Requirement already satisfied: google-pasta>=0.1.6 in /usr/local/lib/python3.6/dist-packages (from tensorflow->keras-squeezenet==0.4) (0.1.8)\n",
            "Requirement already satisfied: astor>=0.6.0 in /usr/local/lib/python3.6/dist-packages (from tensorflow->keras-squeezenet==0.4) (0.8.0)\n",
            "Requirement already satisfied: grpcio>=1.8.6 in /usr/local/lib/python3.6/dist-packages (from tensorflow->keras-squeezenet==0.4) (1.15.0)\n",
            "Requirement already satisfied: protobuf>=3.6.1 in /usr/local/lib/python3.6/dist-packages (from tensorflow->keras-squeezenet==0.4) (3.10.0)\n",
            "Requirement already satisfied: wheel>=0.26 in /usr/local/lib/python3.6/dist-packages (from tensorflow->keras-squeezenet==0.4) (0.33.6)\n",
            "Requirement already satisfied: absl-py>=0.7.0 in /usr/local/lib/python3.6/dist-packages (from tensorflow->keras-squeezenet==0.4) (0.8.1)\n",
            "Requirement already satisfied: wrapt>=1.11.1 in /usr/local/lib/python3.6/dist-packages (from tensorflow->keras-squeezenet==0.4) (1.11.2)\n",
            "Requirement already satisfied: termcolor>=1.1.0 in /usr/local/lib/python3.6/dist-packages (from tensorflow->keras-squeezenet==0.4) (1.1.0)\n",
            "Requirement already satisfied: keras-preprocessing>=1.0.5 in /usr/local/lib/python3.6/dist-packages (from tensorflow->keras-squeezenet==0.4) (1.1.0)\n",
            "Requirement already satisfied: gast==0.2.2 in /usr/local/lib/python3.6/dist-packages (from tensorflow->keras-squeezenet==0.4) (0.2.2)\n",
            "Requirement already satisfied: setuptools>=41.0.0 in /usr/local/lib/python3.6/dist-packages (from tensorboard<1.16.0,>=1.15.0->tensorflow->keras-squeezenet==0.4) (41.4.0)\n",
            "Requirement already satisfied: werkzeug>=0.11.15 in /usr/local/lib/python3.6/dist-packages (from tensorboard<1.16.0,>=1.15.0->tensorflow->keras-squeezenet==0.4) (0.16.0)\n",
            "Requirement already satisfied: markdown>=2.6.8 in /usr/local/lib/python3.6/dist-packages (from tensorboard<1.16.0,>=1.15.0->tensorflow->keras-squeezenet==0.4) (3.1.1)\n",
            "Building wheels for collected packages: keras-squeezenet\n",
            "  Building wheel for keras-squeezenet (setup.py) ... \u001b[?25l\u001b[?25hdone\n",
            "  Created wheel for keras-squeezenet: filename=keras_squeezenet-0.4-cp36-none-any.whl size=4424 sha256=d5d46d7c21d91ef4681e7bbca17075014dd09f038ae206d4c0d541ea36f87cdb\n",
            "  Stored in directory: /tmp/pip-ephem-wheel-cache-g62h2fe4/wheels/15/75/ed/45fffbc76d921a5be07af533b774b35bbf40551334c51af91f\n",
            "Successfully built keras-squeezenet\n",
            "Installing collected packages: keras-squeezenet\n",
            "Successfully installed keras-squeezenet-0.4\n",
            "Requirement already satisfied: keras_squeezenet in /usr/local/lib/python3.6/dist-packages (0.4)\n",
            "Requirement already satisfied: scipy>=0.14 in /usr/local/lib/python3.6/dist-packages (from keras_squeezenet) (1.3.2)\n",
            "Requirement already satisfied: keras in /usr/local/lib/python3.6/dist-packages (from keras_squeezenet) (2.2.5)\n",
            "Requirement already satisfied: numpy>=1.9.1 in /usr/local/lib/python3.6/dist-packages (from keras_squeezenet) (1.17.4)\n",
            "Requirement already satisfied: h5py in /usr/local/lib/python3.6/dist-packages (from keras_squeezenet) (2.8.0)\n",
            "Requirement already satisfied: tensorflow in /usr/local/lib/python3.6/dist-packages (from keras_squeezenet) (1.15.0)\n",
            "Requirement already satisfied: pyyaml in /usr/local/lib/python3.6/dist-packages (from keras_squeezenet) (3.13)\n",
            "Requirement already satisfied: six>=1.9.0 in /usr/local/lib/python3.6/dist-packages (from keras_squeezenet) (1.12.0)\n",
            "Requirement already satisfied: keras-preprocessing>=1.1.0 in /usr/local/lib/python3.6/dist-packages (from keras->keras_squeezenet) (1.1.0)\n",
            "Requirement already satisfied: keras-applications>=1.0.8 in /usr/local/lib/python3.6/dist-packages (from keras->keras_squeezenet) (1.0.8)\n",
            "Requirement already satisfied: astor>=0.6.0 in /usr/local/lib/python3.6/dist-packages (from tensorflow->keras_squeezenet) (0.8.0)\n",
            "Requirement already satisfied: tensorflow-estimator==1.15.1 in /usr/local/lib/python3.6/dist-packages (from tensorflow->keras_squeezenet) (1.15.1)\n",
            "Requirement already satisfied: gast==0.2.2 in /usr/local/lib/python3.6/dist-packages (from tensorflow->keras_squeezenet) (0.2.2)\n",
            "Requirement already satisfied: grpcio>=1.8.6 in /usr/local/lib/python3.6/dist-packages (from tensorflow->keras_squeezenet) (1.15.0)\n",
            "Requirement already satisfied: protobuf>=3.6.1 in /usr/local/lib/python3.6/dist-packages (from tensorflow->keras_squeezenet) (3.10.0)\n",
            "Requirement already satisfied: opt-einsum>=2.3.2 in /usr/local/lib/python3.6/dist-packages (from tensorflow->keras_squeezenet) (3.1.0)\n",
            "Requirement already satisfied: wrapt>=1.11.1 in /usr/local/lib/python3.6/dist-packages (from tensorflow->keras_squeezenet) (1.11.2)\n",
            "Requirement already satisfied: wheel>=0.26 in /usr/local/lib/python3.6/dist-packages (from tensorflow->keras_squeezenet) (0.33.6)\n",
            "Requirement already satisfied: absl-py>=0.7.0 in /usr/local/lib/python3.6/dist-packages (from tensorflow->keras_squeezenet) (0.8.1)\n",
            "Requirement already satisfied: google-pasta>=0.1.6 in /usr/local/lib/python3.6/dist-packages (from tensorflow->keras_squeezenet) (0.1.8)\n",
            "Requirement already satisfied: termcolor>=1.1.0 in /usr/local/lib/python3.6/dist-packages (from tensorflow->keras_squeezenet) (1.1.0)\n",
            "Requirement already satisfied: tensorboard<1.16.0,>=1.15.0 in /usr/local/lib/python3.6/dist-packages (from tensorflow->keras_squeezenet) (1.15.0)\n",
            "Requirement already satisfied: setuptools in /usr/local/lib/python3.6/dist-packages (from protobuf>=3.6.1->tensorflow->keras_squeezenet) (41.4.0)\n",
            "Requirement already satisfied: werkzeug>=0.11.15 in /usr/local/lib/python3.6/dist-packages (from tensorboard<1.16.0,>=1.15.0->tensorflow->keras_squeezenet) (0.16.0)\n",
            "Requirement already satisfied: markdown>=2.6.8 in /usr/local/lib/python3.6/dist-packages (from tensorboard<1.16.0,>=1.15.0->tensorflow->keras_squeezenet) (3.1.1)\n"
          ],
          "name": "stdout"
        }
      ]
    },
    {
      "cell_type": "code",
      "metadata": {
        "id": "FJ0tjFVrzzfm",
        "colab_type": "code",
        "outputId": "fd03fcff-9be7-4ca3-e4f2-f7c9d172db56",
        "colab": {
          "base_uri": "https://localhost:8080/",
          "height": 124
        }
      },
      "source": [
        "from google.colab import drive\n",
        "drive.mount('/content/drive')"
      ],
      "execution_count": 0,
      "outputs": [
        {
          "output_type": "stream",
          "text": [
            "Go to this URL in a browser: https://accounts.google.com/o/oauth2/auth?client_id=947318989803-6bn6qk8qdgf4n4g3pfee6491hc0brc4i.apps.googleusercontent.com&redirect_uri=urn%3aietf%3awg%3aoauth%3a2.0%3aoob&response_type=code&scope=email%20https%3a%2f%2fwww.googleapis.com%2fauth%2fdocs.test%20https%3a%2f%2fwww.googleapis.com%2fauth%2fdrive%20https%3a%2f%2fwww.googleapis.com%2fauth%2fdrive.photos.readonly%20https%3a%2f%2fwww.googleapis.com%2fauth%2fpeopleapi.readonly\n",
            "\n",
            "Enter your authorization code:\n",
            "··········\n",
            "Mounted at /content/drive\n"
          ],
          "name": "stdout"
        }
      ]
    },
    {
      "cell_type": "code",
      "metadata": {
        "id": "cF7tAvgxz8Ts",
        "colab_type": "code",
        "colab": {}
      },
      "source": [
        "from os import listdir, rename\n",
        "from os.path import isfile, join\n",
        "\n",
        "source_dir = 'drive/My Drive/data'\n",
        "train_dir = 'drive/My Drive/data/train'\n",
        "validation_dir = 'drive/My Drive/data/validation'\n",
        "test_dir = 'drive/My Drive/data/test'\n",
        "\n",
        "fake_dir = 'fake'\n",
        "orig_dir = 'orig'\n",
        "\n",
        "images = [f for f in listdir(source_dir) if isfile(join(source_dir, f))]"
      ],
      "execution_count": 0,
      "outputs": []
    },
    {
      "cell_type": "code",
      "metadata": {
        "id": "xVEXD5l90HjE",
        "colab_type": "code",
        "outputId": "4aac6098-3ee0-4398-b2d7-424ff392ee33",
        "colab": {
          "base_uri": "https://localhost:8080/",
          "height": 99
        }
      },
      "source": [
        "import numpy as np\n",
        "import tensorflow as tf\n",
        "\n",
        "from keras.backend.tensorflow_backend import set_session\n",
        "\n",
        "np.random.seed(0)\n",
        "tf.set_random_seed(0)\n",
        "\n",
        "config = tf.ConfigProto()\n",
        "config.gpu_options.allow_growth = True\n",
        "set_session(tf.Session(config=config))\n"
      ],
      "execution_count": 0,
      "outputs": [
        {
          "output_type": "display_data",
          "data": {
            "text/html": [
              "<p style=\"color: red;\">\n",
              "The default version of TensorFlow in Colab will soon switch to TensorFlow 2.x.<br>\n",
              "We recommend you <a href=\"https://www.tensorflow.org/guide/migrate\" target=\"_blank\">upgrade</a> now \n",
              "or ensure your notebook will continue to use TensorFlow 1.x via the <code>%tensorflow_version 1.x</code> magic:\n",
              "<a href=\"https://colab.research.google.com/notebooks/tensorflow_version.ipynb\" target=\"_blank\">more info</a>.</p>\n"
            ],
            "text/plain": [
              "<IPython.core.display.HTML object>"
            ]
          },
          "metadata": {
            "tags": []
          }
        },
        {
          "output_type": "stream",
          "text": [
            "Using TensorFlow backend.\n"
          ],
          "name": "stderr"
        }
      ]
    },
    {
      "cell_type": "markdown",
      "metadata": {
        "id": "4O5QN1TiTG5W",
        "colab_type": "text"
      },
      "source": [
        "**Проверяем включена ли GPU**"
      ]
    },
    {
      "cell_type": "code",
      "metadata": {
        "id": "RdcgcrJT0OcF",
        "colab_type": "code",
        "colab": {}
      },
      "source": [
        ""
      ],
      "execution_count": 0,
      "outputs": []
    },
    {
      "cell_type": "code",
      "metadata": {
        "id": "0E1aUmrE0fjb",
        "colab_type": "code",
        "colab": {}
      },
      "source": [
        "train_data_dir = 'drive/My Drive/data/train'\n",
        "test_data_dir = 'drive/My Drive/data/test'\n",
        "validation_data_dir = 'drive/My Drive/data/validation'\n",
        "\n",
        "img_height = 224\n",
        "img_width = 224\n",
        "\n",
        "batch_size = 16\n",
        "epochs = 150\n",
        "\n",
        "train_first_class = 4112\n",
        "train_second_class = 4112\n",
        "\n",
        "val_first_class = 1120\n",
        "val_second_class = 1120\n",
        "\n",
        "nb_train_samples = train_first_class + train_second_class\n",
        "nb_validation_samples = val_first_class + val_second_class\n"
      ],
      "execution_count": 0,
      "outputs": []
    },
    {
      "cell_type": "code",
      "metadata": {
        "id": "YJu2VcsbHPK0",
        "colab_type": "code",
        "outputId": "df749b28-0e25-4b1f-bd8b-05d497bf034f",
        "colab": {
          "base_uri": "https://localhost:8080/",
          "height": 52
        }
      },
      "source": [
        "!python -c \"import keras; print(keras.__version__)\"\n"
      ],
      "execution_count": 0,
      "outputs": [
        {
          "output_type": "stream",
          "text": [
            "Using TensorFlow backend.\n",
            "2.1.1\n"
          ],
          "name": "stdout"
        }
      ]
    },
    {
      "cell_type": "code",
      "metadata": {
        "id": "IVKCB5X4OuBV",
        "colab_type": "code",
        "outputId": "fa4f0433-7172-4fae-d4e6-ec870a6d6f7f",
        "colab": {
          "base_uri": "https://localhost:8080/",
          "height": 297
        }
      },
      "source": [
        "!pip install q keras==2.1.1"
      ],
      "execution_count": 0,
      "outputs": [
        {
          "output_type": "stream",
          "text": [
            "Collecting q\n",
            "  Downloading https://files.pythonhosted.org/packages/53/bc/51619d89e0bd855567e7652fa16d06f1ed36a85f108a7fe71f6629bf719d/q-2.6-py2.py3-none-any.whl\n",
            "Collecting keras==2.1.1\n",
            "\u001b[?25l  Downloading https://files.pythonhosted.org/packages/e1/49/decea3cbcfc08bd6b2105c5793d958ea159d07f2b43e45a00afe2b35633d/Keras-2.1.1-py2.py3-none-any.whl (302kB)\n",
            "\u001b[K     |████████████████████████████████| 307kB 4.0MB/s \n",
            "\u001b[?25hRequirement already satisfied: scipy>=0.14 in /usr/local/lib/python3.6/dist-packages (from keras==2.1.1) (1.3.2)\n",
            "Requirement already satisfied: pyyaml in /usr/local/lib/python3.6/dist-packages (from keras==2.1.1) (3.13)\n",
            "Requirement already satisfied: numpy>=1.9.1 in /usr/local/lib/python3.6/dist-packages (from keras==2.1.1) (1.17.4)\n",
            "Requirement already satisfied: six>=1.9.0 in /usr/local/lib/python3.6/dist-packages (from keras==2.1.1) (1.12.0)\n",
            "\u001b[31mERROR: textgenrnn 1.4.1 has requirement keras>=2.1.5, but you'll have keras 2.1.1 which is incompatible.\u001b[0m\n",
            "Installing collected packages: q, keras\n",
            "  Found existing installation: Keras 2.2.5\n",
            "    Uninstalling Keras-2.2.5:\n",
            "      Successfully uninstalled Keras-2.2.5\n",
            "Successfully installed keras-2.1.1 q-2.6\n"
          ],
          "name": "stdout"
        }
      ]
    },
    {
      "cell_type": "markdown",
      "metadata": {
        "id": "4QiONDpoD63O",
        "colab_type": "text"
      },
      "source": [
        "**Прогоняем наш датасет через сверточные слои предобученной сети Xception, чтобы получить признаки и сохраняем их**"
      ]
    },
    {
      "cell_type": "code",
      "metadata": {
        "id": "U-0UpJkR1X6n",
        "colab_type": "code",
        "outputId": "aa987cc5-eb2d-40cf-d659-7934bae2a2cf",
        "colab": {
          "base_uri": "https://localhost:8080/",
          "height": 87
        }
      },
      "source": [
        "from keras.layers import Input\n",
        "#from keras.applications.inception_v3 import InceptionV3\n",
        "#from keras.applications.mobilenet_v2 import MobileNetV2 \n",
        "#from keras.applications.mobilenetv3 import MobileNetV3\n",
        "\n",
        "from keras_squeezenet import SqueezeNet\n",
        "from keras.applications.imagenet_utils import preprocess_input, decode_predictions\n",
        "from keras.preprocessing import image\n",
        "\n",
        "\n",
        "\n",
        "input_tensor = Input(shape=(img_height,img_width,3))\n",
        "\n",
        "base_model = SqueezeNet(weights='imagenet',\n",
        "                          include_top=False,\n",
        "                          input_shape=(img_width, img_height, 3),\n",
        "                          pooling='avg')\n",
        "'''\n",
        "inc_model=InceptionV3(include_top=False,\n",
        "                      weights='imagenet',\n",
        "                      input_shape=((3, 150, 150)))'''\n",
        "\n",
        "\n",
        "data_generator = image.ImageDataGenerator(rescale=1. / 255)\n",
        "\n",
        "train_generator = data_generator.flow_from_directory(\n",
        "    train_data_dir,\n",
        "    target_size=(img_height, img_width),\n",
        "    batch_size=batch_size,\n",
        "    class_mode=None,\n",
        "    shuffle=False)\n",
        "\n",
        "bottleneck_features_train = base_model.predict_generator(\n",
        "        train_generator, \n",
        "        nb_train_samples // batch_size)\n",
        "\n",
        "print('Prediction of the training set finished.')\n",
        "\n",
        "np.save(open('bottleneck_features_train.npy', 'wb'),\n",
        "            bottleneck_features_train)\n",
        "\n",
        "validation_generator = data_generator.flow_from_directory(\n",
        "    validation_data_dir,\n",
        "    target_size=(img_height, img_width),\n",
        "    batch_size=batch_size,\n",
        "    class_mode=None,\n",
        "    shuffle=False)\n",
        "\n",
        "bottleneck_features_validation = base_model.predict_generator(\n",
        "        validation_generator, \n",
        "        nb_validation_samples // batch_size)\n",
        "\n",
        "print('Prediction of the validation set finished.')\n",
        "\n",
        "np.save(open('bottleneck_features_validation.npy', 'wb'),\n",
        "            bottleneck_features_validation)"
      ],
      "execution_count": 0,
      "outputs": [
        {
          "output_type": "stream",
          "text": [
            "Found 8224 images belonging to 2 classes.\n",
            "Prediction of the training set finished.\n",
            "Found 2240 images belonging to 2 classes.\n",
            "Prediction of the validation set finished.\n"
          ],
          "name": "stdout"
        }
      ]
    },
    {
      "cell_type": "code",
      "metadata": {
        "id": "G-AdPmFKFKN3",
        "colab_type": "code",
        "colab": {}
      },
      "source": [
        ""
      ],
      "execution_count": 0,
      "outputs": []
    },
    {
      "cell_type": "code",
      "metadata": {
        "id": "HuCox5Ev1sWz",
        "colab_type": "code",
        "colab": {}
      },
      "source": [
        "train_data = np.load(open('bottleneck_features_train.npy', 'rb'))\n",
        "train_labels = np.array([0] * train_first_class + [1] * train_second_class)\n",
        "\n",
        "validation_data = np.load(open('bottleneck_features_validation.npy', 'rb'))\n",
        "validation_labels = np.array([0] * (val_first_class) + [1] * (val_second_class))"
      ],
      "execution_count": 0,
      "outputs": []
    },
    {
      "cell_type": "markdown",
      "metadata": {
        "id": "NivdVMbkN5yz",
        "colab_type": "text"
      },
      "source": [
        "**Создадим полносвязную сеть и обучим её на полученных признаках**"
      ]
    },
    {
      "cell_type": "code",
      "metadata": {
        "id": "t0bhS3d3_whU",
        "colab_type": "code",
        "outputId": "13dca54b-4fae-43cb-c5dc-ebbf4e4fa520",
        "colab": {
          "base_uri": "https://localhost:8080/",
          "height": 1000
        }
      },
      "source": [
        "from keras.models import Sequential\n",
        "from keras.callbacks import ModelCheckpoint\n",
        "from keras.optimizers import SGD\n",
        "from keras.layers import Dropout, Dense\n",
        "\n",
        "model = Sequential()\n",
        "\n",
        "model.add(Dense(512, activation='relu', input_shape=base_model.output_shape[1:]))\n",
        "model.add(Dropout(0.5))\n",
        "    \n",
        "model.add(Dense(256, activation='relu', input_shape=base_model.output_shape[1:]))\n",
        "model.add(Dropout(0.5))\n",
        "\n",
        "model.add(Dense(128, activation='relu', input_shape=base_model.output_shape[1:]))\n",
        "model.add(Dropout(0.5))    \n",
        "\n",
        "model.add(Dense(64, activation='relu'))\n",
        "model.add(Dropout(0.5))   \n",
        "\n",
        "model.add(Dense(1, activation='sigmoid'))\n",
        "\n",
        "model.compile(optimizer=SGD(lr=0.005),\n",
        "              loss='binary_crossentropy',\n",
        "              metrics=['accuracy'])\n",
        "\n",
        "checkpointer = ModelCheckpoint(filepath='top-weights.hdf5', verbose=1, save_best_only=True)\n",
        "\n",
        "history = model.fit(train_data,\n",
        "                    train_labels,\n",
        "                    epochs=epochs,\n",
        "                    batch_size=batch_size,\n",
        "                    callbacks=[checkpointer],\n",
        "                    validation_data=(validation_data, validation_labels))"
      ],
      "execution_count": 0,
      "outputs": [
        {
          "output_type": "stream",
          "text": [
            "Train on 8224 samples, validate on 2240 samples\n",
            "Epoch 1/150\n",
            "8176/8224 [============================>.] - ETA: 0s - loss: 0.8159 - acc: 0.5053Epoch 00001: val_loss improved from inf to 0.69340, saving model to top-weights.hdf5\n",
            "8224/8224 [==============================] - 6s 692us/step - loss: 0.8150 - acc: 0.5058 - val_loss: 0.6934 - val_acc: 0.5000\n",
            "Epoch 2/150\n",
            "8208/8224 [============================>.] - ETA: 0s - loss: 0.6995 - acc: 0.5039Epoch 00002: val_loss improved from 0.69340 to 0.69336, saving model to top-weights.hdf5\n",
            "8224/8224 [==============================] - 3s 380us/step - loss: 0.6996 - acc: 0.5034 - val_loss: 0.6934 - val_acc: 0.4701\n",
            "Epoch 3/150\n",
            "8112/8224 [============================>.] - ETA: 0s - loss: 0.6942 - acc: 0.5004Epoch 00003: val_loss improved from 0.69336 to 0.69314, saving model to top-weights.hdf5\n",
            "8224/8224 [==============================] - 3s 394us/step - loss: 0.6942 - acc: 0.4995 - val_loss: 0.6931 - val_acc: 0.4996\n",
            "Epoch 4/150\n",
            "8208/8224 [============================>.] - ETA: 0s - loss: 0.6935 - acc: 0.4981Epoch 00004: val_loss did not improve\n",
            "8224/8224 [==============================] - 4s 435us/step - loss: 0.6935 - acc: 0.4979 - val_loss: 0.6933 - val_acc: 0.5058\n",
            "Epoch 5/150\n",
            "8064/8224 [============================>.] - ETA: 0s - loss: 0.6935 - acc: 0.4856Epoch 00005: val_loss improved from 0.69314 to 0.69313, saving model to top-weights.hdf5\n",
            "8224/8224 [==============================] - 3s 423us/step - loss: 0.6935 - acc: 0.4863 - val_loss: 0.6931 - val_acc: 0.4996\n",
            "Epoch 6/150\n",
            "8080/8224 [============================>.] - ETA: 0s - loss: 0.6932 - acc: 0.4981Epoch 00006: val_loss did not improve\n",
            "8224/8224 [==============================] - 3s 423us/step - loss: 0.6932 - acc: 0.4978 - val_loss: 0.6931 - val_acc: 0.4996\n",
            "Epoch 7/150\n",
            "8176/8224 [============================>.] - ETA: 0s - loss: 0.6932 - acc: 0.5024Epoch 00007: val_loss did not improve\n",
            "8224/8224 [==============================] - 3s 407us/step - loss: 0.6932 - acc: 0.5023 - val_loss: 0.6932 - val_acc: 0.4839\n",
            "Epoch 8/150\n",
            "8128/8224 [============================>.] - ETA: 0s - loss: 0.6933 - acc: 0.4996Epoch 00008: val_loss did not improve\n",
            "8224/8224 [==============================] - 4s 433us/step - loss: 0.6933 - acc: 0.4987 - val_loss: 0.6931 - val_acc: 0.4978\n",
            "Epoch 9/150\n",
            "8080/8224 [============================>.] - ETA: 0s - loss: 0.6935 - acc: 0.4931Epoch 00009: val_loss improved from 0.69313 to 0.69311, saving model to top-weights.hdf5\n",
            "8224/8224 [==============================] - 3s 400us/step - loss: 0.6935 - acc: 0.4937 - val_loss: 0.6931 - val_acc: 0.5085\n",
            "Epoch 10/150\n",
            "8144/8224 [============================>.] - ETA: 0s - loss: 0.6934 - acc: 0.4977Epoch 00010: val_loss improved from 0.69311 to 0.69303, saving model to top-weights.hdf5\n",
            "8224/8224 [==============================] - 3s 423us/step - loss: 0.6934 - acc: 0.4981 - val_loss: 0.6930 - val_acc: 0.5000\n",
            "Epoch 11/150\n",
            "8160/8224 [============================>.] - ETA: 0s - loss: 0.6935 - acc: 0.4963Epoch 00011: val_loss did not improve\n",
            "8224/8224 [==============================] - 4s 442us/step - loss: 0.6935 - acc: 0.4965 - val_loss: 0.6931 - val_acc: 0.5022\n",
            "Epoch 12/150\n",
            "8112/8224 [============================>.] - ETA: 0s - loss: 0.6933 - acc: 0.5048Epoch 00012: val_loss did not improve\n",
            "8224/8224 [==============================] - 4s 438us/step - loss: 0.6933 - acc: 0.5049 - val_loss: 0.6931 - val_acc: 0.5009\n",
            "Epoch 13/150\n",
            "8128/8224 [============================>.] - ETA: 0s - loss: 0.6933 - acc: 0.5012Epoch 00013: val_loss improved from 0.69303 to 0.69301, saving model to top-weights.hdf5\n",
            "8224/8224 [==============================] - 3s 407us/step - loss: 0.6933 - acc: 0.5013 - val_loss: 0.6930 - val_acc: 0.5219\n",
            "Epoch 14/150\n",
            "8192/8224 [============================>.] - ETA: 0s - loss: 0.6931 - acc: 0.5105Epoch 00014: val_loss did not improve\n",
            "8224/8224 [==============================] - 3s 425us/step - loss: 0.6931 - acc: 0.5101 - val_loss: 0.6931 - val_acc: 0.5013\n",
            "Epoch 15/150\n",
            "8112/8224 [============================>.] - ETA: 0s - loss: 0.6932 - acc: 0.5051Epoch 00015: val_loss improved from 0.69301 to 0.69281, saving model to top-weights.hdf5\n",
            "8224/8224 [==============================] - 3s 396us/step - loss: 0.6932 - acc: 0.5054 - val_loss: 0.6928 - val_acc: 0.4996\n",
            "Epoch 16/150\n",
            "8160/8224 [============================>.] - ETA: 0s - loss: 0.6933 - acc: 0.4988Epoch 00016: val_loss did not improve\n",
            "8224/8224 [==============================] - 4s 430us/step - loss: 0.6933 - acc: 0.4988 - val_loss: 0.6931 - val_acc: 0.5022\n",
            "Epoch 17/150\n",
            "8192/8224 [============================>.] - ETA: 0s - loss: 0.6932 - acc: 0.5039Epoch 00017: val_loss did not improve\n",
            "8224/8224 [==============================] - 4s 431us/step - loss: 0.6932 - acc: 0.5039 - val_loss: 0.6931 - val_acc: 0.5004\n",
            "Epoch 18/150\n",
            "8192/8224 [============================>.] - ETA: 0s - loss: 0.6934 - acc: 0.5012Epoch 00018: val_loss did not improve\n",
            "8224/8224 [==============================] - 3s 393us/step - loss: 0.6934 - acc: 0.5012 - val_loss: 0.6931 - val_acc: 0.5022\n",
            "Epoch 19/150\n",
            "8144/8224 [============================>.] - ETA: 0s - loss: 0.6931 - acc: 0.5026Epoch 00019: val_loss did not improve\n",
            "8224/8224 [==============================] - 3s 403us/step - loss: 0.6931 - acc: 0.5028 - val_loss: 0.6930 - val_acc: 0.5013\n",
            "Epoch 20/150\n",
            "8096/8224 [============================>.] - ETA: 0s - loss: 0.6931 - acc: 0.5135Epoch 00020: val_loss did not improve\n",
            "8224/8224 [==============================] - 3s 398us/step - loss: 0.6931 - acc: 0.5125 - val_loss: 0.6931 - val_acc: 0.5027\n",
            "Epoch 21/150\n",
            "8144/8224 [============================>.] - ETA: 0s - loss: 0.6932 - acc: 0.5098Epoch 00021: val_loss did not improve\n",
            "8224/8224 [==============================] - 3s 397us/step - loss: 0.6932 - acc: 0.5098 - val_loss: 0.6931 - val_acc: 0.5036\n",
            "Epoch 22/150\n",
            "8192/8224 [============================>.] - ETA: 0s - loss: 0.6932 - acc: 0.5021Epoch 00022: val_loss did not improve\n",
            "8224/8224 [==============================] - 3s 397us/step - loss: 0.6932 - acc: 0.5019 - val_loss: 0.6931 - val_acc: 0.5027\n",
            "Epoch 23/150\n",
            "8112/8224 [============================>.] - ETA: 0s - loss: 0.6929 - acc: 0.5078Epoch 00023: val_loss did not improve\n",
            "8224/8224 [==============================] - 3s 405us/step - loss: 0.6927 - acc: 0.5092 - val_loss: 0.6933 - val_acc: 0.5000\n",
            "Epoch 24/150\n",
            "8080/8224 [============================>.] - ETA: 0s - loss: 0.6935 - acc: 0.5084Epoch 00024: val_loss did not improve\n",
            "8224/8224 [==============================] - 3s 402us/step - loss: 0.6935 - acc: 0.5086 - val_loss: 0.6930 - val_acc: 0.5094\n",
            "Epoch 25/150\n",
            "8176/8224 [============================>.] - ETA: 0s - loss: 0.6933 - acc: 0.5048Epoch 00025: val_loss did not improve\n",
            "8224/8224 [==============================] - 3s 376us/step - loss: 0.6933 - acc: 0.5051 - val_loss: 0.6931 - val_acc: 0.5165\n",
            "Epoch 26/150\n",
            "8144/8224 [============================>.] - ETA: 0s - loss: 0.6931 - acc: 0.5005Epoch 00026: val_loss did not improve\n",
            "8224/8224 [==============================] - 3s 412us/step - loss: 0.6931 - acc: 0.4999 - val_loss: 0.6930 - val_acc: 0.5232\n",
            "Epoch 27/150\n",
            "8192/8224 [============================>.] - ETA: 0s - loss: 0.6933 - acc: 0.5016Epoch 00027: val_loss did not improve\n",
            "8224/8224 [==============================] - 3s 423us/step - loss: 0.6933 - acc: 0.5016 - val_loss: 0.6929 - val_acc: 0.5210\n",
            "Epoch 28/150\n",
            "8144/8224 [============================>.] - ETA: 0s - loss: 0.6932 - acc: 0.5120Epoch 00028: val_loss improved from 0.69281 to 0.69276, saving model to top-weights.hdf5\n",
            "8224/8224 [==============================] - 3s 408us/step - loss: 0.6932 - acc: 0.5125 - val_loss: 0.6928 - val_acc: 0.5308\n",
            "Epoch 29/150\n",
            "8192/8224 [============================>.] - ETA: 0s - loss: 0.6932 - acc: 0.5060Epoch 00029: val_loss did not improve\n",
            "8224/8224 [==============================] - 3s 413us/step - loss: 0.6932 - acc: 0.5060 - val_loss: 0.6929 - val_acc: 0.5147\n",
            "Epoch 30/150\n",
            "8160/8224 [============================>.] - ETA: 0s - loss: 0.6930 - acc: 0.5029Epoch 00030: val_loss did not improve\n",
            "8224/8224 [==============================] - 3s 389us/step - loss: 0.6930 - acc: 0.5030 - val_loss: 0.6928 - val_acc: 0.5281\n",
            "Epoch 31/150\n",
            "8096/8224 [============================>.] - ETA: 0s - loss: 0.6932 - acc: 0.5026Epoch 00031: val_loss did not improve\n",
            "8224/8224 [==============================] - 3s 415us/step - loss: 0.6932 - acc: 0.5040 - val_loss: 0.6930 - val_acc: 0.4996\n",
            "Epoch 32/150\n",
            "8112/8224 [============================>.] - ETA: 0s - loss: 0.6934 - acc: 0.5062Epoch 00032: val_loss did not improve\n",
            "8224/8224 [==============================] - 3s 401us/step - loss: 0.6933 - acc: 0.5071 - val_loss: 0.6929 - val_acc: 0.5183\n",
            "Epoch 33/150\n",
            "8096/8224 [============================>.] - ETA: 0s - loss: 0.6934 - acc: 0.5017Epoch 00033: val_loss did not improve\n",
            "8224/8224 [==============================] - 3s 410us/step - loss: 0.6934 - acc: 0.5009 - val_loss: 0.6930 - val_acc: 0.5049\n",
            "Epoch 34/150\n",
            "8128/8224 [============================>.] - ETA: 0s - loss: 0.6931 - acc: 0.5091Epoch 00034: val_loss improved from 0.69276 to 0.69257, saving model to top-weights.hdf5\n",
            "8224/8224 [==============================] - 3s 425us/step - loss: 0.6931 - acc: 0.5095 - val_loss: 0.6926 - val_acc: 0.5371\n",
            "Epoch 35/150\n",
            "8144/8224 [============================>.] - ETA: 0s - loss: 0.6934 - acc: 0.4982Epoch 00035: val_loss did not improve\n",
            "8224/8224 [==============================] - 3s 405us/step - loss: 0.6934 - acc: 0.4987 - val_loss: 0.6931 - val_acc: 0.5040\n",
            "Epoch 36/150\n",
            "8112/8224 [============================>.] - ETA: 0s - loss: 0.6932 - acc: 0.5006Epoch 00036: val_loss did not improve\n",
            "8224/8224 [==============================] - 4s 429us/step - loss: 0.6932 - acc: 0.5011 - val_loss: 0.6931 - val_acc: 0.5071\n",
            "Epoch 37/150\n",
            "8176/8224 [============================>.] - ETA: 0s - loss: 0.6933 - acc: 0.5048Epoch 00037: val_loss did not improve\n",
            "8224/8224 [==============================] - 3s 399us/step - loss: 0.6933 - acc: 0.5045 - val_loss: 0.6930 - val_acc: 0.5031\n",
            "Epoch 38/150\n",
            "8144/8224 [============================>.] - ETA: 0s - loss: 0.6933 - acc: 0.5025Epoch 00038: val_loss did not improve\n",
            "8224/8224 [==============================] - 3s 395us/step - loss: 0.6933 - acc: 0.5017 - val_loss: 0.6931 - val_acc: 0.5040\n",
            "Epoch 39/150\n",
            "8144/8224 [============================>.] - ETA: 0s - loss: 0.6933 - acc: 0.4993Epoch 00039: val_loss did not improve\n",
            "8224/8224 [==============================] - 3s 408us/step - loss: 0.6933 - acc: 0.4998 - val_loss: 0.6932 - val_acc: 0.5018\n",
            "Epoch 40/150\n",
            "8192/8224 [============================>.] - ETA: 0s - loss: 0.6932 - acc: 0.5011Epoch 00040: val_loss did not improve\n",
            "8224/8224 [==============================] - 3s 410us/step - loss: 0.6932 - acc: 0.5011 - val_loss: 0.6930 - val_acc: 0.5058\n",
            "Epoch 41/150\n",
            "8080/8224 [============================>.] - ETA: 0s - loss: 0.6931 - acc: 0.5099Epoch 00041: val_loss did not improve\n",
            "8224/8224 [==============================] - 3s 395us/step - loss: 0.6931 - acc: 0.5097 - val_loss: 0.6931 - val_acc: 0.5009\n",
            "Epoch 42/150\n",
            "8160/8224 [============================>.] - ETA: 0s - loss: 0.6931 - acc: 0.5038Epoch 00042: val_loss did not improve\n",
            "8224/8224 [==============================] - 3s 406us/step - loss: 0.6931 - acc: 0.5045 - val_loss: 0.6933 - val_acc: 0.4893\n",
            "Epoch 43/150\n",
            "8208/8224 [============================>.] - ETA: 0s - loss: 0.6932 - acc: 0.5099Epoch 00043: val_loss did not improve\n",
            "8224/8224 [==============================] - 3s 375us/step - loss: 0.6932 - acc: 0.5098 - val_loss: 0.6930 - val_acc: 0.4996\n",
            "Epoch 44/150\n",
            "8144/8224 [============================>.] - ETA: 0s - loss: 0.6933 - acc: 0.5102Epoch 00044: val_loss did not improve\n",
            "8224/8224 [==============================] - 3s 425us/step - loss: 0.6933 - acc: 0.5101 - val_loss: 0.6932 - val_acc: 0.5013\n",
            "Epoch 45/150\n",
            "8080/8224 [============================>.] - ETA: 0s - loss: 0.6931 - acc: 0.5103Epoch 00045: val_loss did not improve\n",
            "8224/8224 [==============================] - 3s 415us/step - loss: 0.6931 - acc: 0.5105 - val_loss: 0.6931 - val_acc: 0.5018\n",
            "Epoch 46/150\n",
            "8096/8224 [============================>.] - ETA: 0s - loss: 0.6931 - acc: 0.4964Epoch 00046: val_loss did not improve\n",
            "8224/8224 [==============================] - 3s 409us/step - loss: 0.6931 - acc: 0.4966 - val_loss: 0.6931 - val_acc: 0.5013\n",
            "Epoch 47/150\n",
            "8176/8224 [============================>.] - ETA: 0s - loss: 0.6931 - acc: 0.5007Epoch 00047: val_loss did not improve\n",
            "8224/8224 [==============================] - 4s 436us/step - loss: 0.6931 - acc: 0.5005 - val_loss: 0.6931 - val_acc: 0.5040\n",
            "Epoch 48/150\n",
            "8176/8224 [============================>.] - ETA: 0s - loss: 0.6932 - acc: 0.5040Epoch 00048: val_loss did not improve\n",
            "8224/8224 [==============================] - 3s 417us/step - loss: 0.6932 - acc: 0.5036 - val_loss: 0.6930 - val_acc: 0.5062\n",
            "Epoch 49/150\n",
            "8128/8224 [============================>.] - ETA: 0s - loss: 0.6932 - acc: 0.5001Epoch 00049: val_loss did not improve\n",
            "8224/8224 [==============================] - 4s 430us/step - loss: 0.6932 - acc: 0.5010 - val_loss: 0.6930 - val_acc: 0.5223\n",
            "Epoch 50/150\n",
            "8144/8224 [============================>.] - ETA: 0s - loss: 0.6932 - acc: 0.5001Epoch 00050: val_loss did not improve\n",
            "8224/8224 [==============================] - 4s 429us/step - loss: 0.6932 - acc: 0.5009 - val_loss: 0.6931 - val_acc: 0.5036\n",
            "Epoch 51/150\n",
            "8112/8224 [============================>.] - ETA: 0s - loss: 0.6932 - acc: 0.5055Epoch 00051: val_loss did not improve\n",
            "8224/8224 [==============================] - 3s 406us/step - loss: 0.6932 - acc: 0.5044 - val_loss: 0.6930 - val_acc: 0.5469\n",
            "Epoch 52/150\n",
            "8160/8224 [============================>.] - ETA: 0s - loss: 0.6931 - acc: 0.4972Epoch 00052: val_loss did not improve\n",
            "8224/8224 [==============================] - 3s 397us/step - loss: 0.6931 - acc: 0.4965 - val_loss: 0.6931 - val_acc: 0.5085\n",
            "Epoch 53/150\n",
            "8192/8224 [============================>.] - ETA: 0s - loss: 0.6931 - acc: 0.5061Epoch 00053: val_loss did not improve\n",
            "8224/8224 [==============================] - 4s 430us/step - loss: 0.6931 - acc: 0.5058 - val_loss: 0.6931 - val_acc: 0.5031\n",
            "Epoch 54/150\n",
            "8192/8224 [============================>.] - ETA: 0s - loss: 0.6932 - acc: 0.4989Epoch 00054: val_loss did not improve\n",
            "8224/8224 [==============================] - 4s 429us/step - loss: 0.6932 - acc: 0.4984 - val_loss: 0.6928 - val_acc: 0.5344\n",
            "Epoch 55/150\n",
            "8144/8224 [============================>.] - ETA: 0s - loss: 0.6930 - acc: 0.5036Epoch 00055: val_loss did not improve\n",
            "8224/8224 [==============================] - 4s 431us/step - loss: 0.6930 - acc: 0.5044 - val_loss: 0.6928 - val_acc: 0.5085\n",
            "Epoch 56/150\n",
            "8144/8224 [============================>.] - ETA: 0s - loss: 0.6931 - acc: 0.5123Epoch 00056: val_loss did not improve\n",
            "8224/8224 [==============================] - 3s 424us/step - loss: 0.6930 - acc: 0.5124 - val_loss: 0.6929 - val_acc: 0.5000\n",
            "Epoch 57/150\n",
            "8128/8224 [============================>.] - ETA: 0s - loss: 0.6932 - acc: 0.5065Epoch 00057: val_loss did not improve\n",
            "8224/8224 [==============================] - 3s 412us/step - loss: 0.6932 - acc: 0.5072 - val_loss: 0.6932 - val_acc: 0.5031\n",
            "Epoch 58/150\n",
            "8128/8224 [============================>.] - ETA: 0s - loss: 0.6933 - acc: 0.4998Epoch 00058: val_loss did not improve\n",
            "8224/8224 [==============================] - 3s 404us/step - loss: 0.6933 - acc: 0.5007 - val_loss: 0.6931 - val_acc: 0.5058\n",
            "Epoch 59/150\n",
            "8192/8224 [============================>.] - ETA: 0s - loss: 0.6932 - acc: 0.5084Epoch 00059: val_loss did not improve\n",
            "8224/8224 [==============================] - 3s 420us/step - loss: 0.6932 - acc: 0.5088 - val_loss: 0.6928 - val_acc: 0.5165\n",
            "Epoch 60/150\n",
            "8192/8224 [============================>.] - ETA: 0s - loss: 0.6929 - acc: 0.5088Epoch 00060: val_loss did not improve\n",
            "8224/8224 [==============================] - 3s 409us/step - loss: 0.6929 - acc: 0.5089 - val_loss: 0.6929 - val_acc: 0.5058\n",
            "Epoch 61/150\n",
            "8144/8224 [============================>.] - ETA: 0s - loss: 0.6931 - acc: 0.5027Epoch 00061: val_loss did not improve\n",
            "8224/8224 [==============================] - 3s 411us/step - loss: 0.6931 - acc: 0.5028 - val_loss: 0.6930 - val_acc: 0.5022\n",
            "Epoch 62/150\n",
            "8080/8224 [============================>.] - ETA: 0s - loss: 0.6931 - acc: 0.5054Epoch 00062: val_loss did not improve\n",
            "8224/8224 [==============================] - 3s 398us/step - loss: 0.6932 - acc: 0.5041 - val_loss: 0.6930 - val_acc: 0.5116\n",
            "Epoch 63/150\n",
            "8192/8224 [============================>.] - ETA: 0s - loss: 0.6932 - acc: 0.4976Epoch 00063: val_loss did not improve\n",
            "8224/8224 [==============================] - 3s 409us/step - loss: 0.6932 - acc: 0.4976 - val_loss: 0.6930 - val_acc: 0.5223\n",
            "Epoch 64/150\n",
            "8080/8224 [============================>.] - ETA: 0s - loss: 0.6932 - acc: 0.5046Epoch 00064: val_loss did not improve\n",
            "8224/8224 [==============================] - 3s 423us/step - loss: 0.6932 - acc: 0.5055 - val_loss: 0.6929 - val_acc: 0.5112\n",
            "Epoch 65/150\n",
            "8176/8224 [============================>.] - ETA: 0s - loss: 0.6932 - acc: 0.5073Epoch 00065: val_loss did not improve\n",
            "8224/8224 [==============================] - 3s 417us/step - loss: 0.6932 - acc: 0.5072 - val_loss: 0.6930 - val_acc: 0.4996\n",
            "Epoch 66/150\n",
            "8160/8224 [============================>.] - ETA: 0s - loss: 0.6933 - acc: 0.5070Epoch 00066: val_loss did not improve\n",
            "8224/8224 [==============================] - 3s 416us/step - loss: 0.6933 - acc: 0.5075 - val_loss: 0.6931 - val_acc: 0.5022\n",
            "Epoch 67/150\n",
            "8144/8224 [============================>.] - ETA: 0s - loss: 0.6932 - acc: 0.5017Epoch 00067: val_loss did not improve\n",
            "8224/8224 [==============================] - 3s 414us/step - loss: 0.6931 - acc: 0.5021 - val_loss: 0.6931 - val_acc: 0.5027\n",
            "Epoch 68/150\n",
            "8128/8224 [============================>.] - ETA: 0s - loss: 0.6932 - acc: 0.5009Epoch 00068: val_loss did not improve\n",
            "8224/8224 [==============================] - 3s 419us/step - loss: 0.6932 - acc: 0.5015 - val_loss: 0.6931 - val_acc: 0.5058\n",
            "Epoch 69/150\n",
            "8112/8224 [============================>.] - ETA: 0s - loss: 0.6929 - acc: 0.4980Epoch 00069: val_loss did not improve\n",
            "8224/8224 [==============================] - 3s 387us/step - loss: 0.6929 - acc: 0.4976 - val_loss: 0.6928 - val_acc: 0.5000\n",
            "Epoch 70/150\n",
            "8112/8224 [============================>.] - ETA: 0s - loss: 0.6930 - acc: 0.5031Epoch 00070: val_loss did not improve\n",
            "8224/8224 [==============================] - 3s 424us/step - loss: 0.6930 - acc: 0.5035 - val_loss: 0.6931 - val_acc: 0.5049\n",
            "Epoch 71/150\n",
            "8144/8224 [============================>.] - ETA: 0s - loss: 0.6931 - acc: 0.4940Epoch 00071: val_loss did not improve\n",
            "8224/8224 [==============================] - 3s 420us/step - loss: 0.6931 - acc: 0.4943 - val_loss: 0.6929 - val_acc: 0.5232\n",
            "Epoch 72/150\n",
            "8192/8224 [============================>.] - ETA: 0s - loss: 0.6931 - acc: 0.5015Epoch 00072: val_loss did not improve\n",
            "8224/8224 [==============================] - 4s 429us/step - loss: 0.6931 - acc: 0.5015 - val_loss: 0.6930 - val_acc: 0.5045\n",
            "Epoch 73/150\n",
            "8080/8224 [============================>.] - ETA: 0s - loss: 0.6932 - acc: 0.5095Epoch 00073: val_loss did not improve\n",
            "8224/8224 [==============================] - 3s 423us/step - loss: 0.6932 - acc: 0.5086 - val_loss: 0.6931 - val_acc: 0.5036\n",
            "Epoch 74/150\n",
            "8128/8224 [============================>.] - ETA: 0s - loss: 0.6931 - acc: 0.5020Epoch 00074: val_loss did not improve\n",
            "8224/8224 [==============================] - 3s 396us/step - loss: 0.6931 - acc: 0.5015 - val_loss: 0.6931 - val_acc: 0.5058\n",
            "Epoch 75/150\n",
            "8128/8224 [============================>.] - ETA: 0s - loss: 0.6931 - acc: 0.4996Epoch 00075: val_loss did not improve\n",
            "8224/8224 [==============================] - 4s 431us/step - loss: 0.6931 - acc: 0.5000 - val_loss: 0.6931 - val_acc: 0.5040\n",
            "Epoch 76/150\n",
            "8064/8224 [============================>.] - ETA: 0s - loss: 0.6930 - acc: 0.5036Epoch 00076: val_loss did not improve\n",
            "8224/8224 [==============================] - 3s 422us/step - loss: 0.6930 - acc: 0.5038 - val_loss: 0.6931 - val_acc: 0.5000\n",
            "Epoch 77/150\n",
            "8208/8224 [============================>.] - ETA: 0s - loss: 0.6931 - acc: 0.4994Epoch 00077: val_loss did not improve\n",
            "8224/8224 [==============================] - 3s 411us/step - loss: 0.6931 - acc: 0.4998 - val_loss: 0.6931 - val_acc: 0.5040\n",
            "Epoch 78/150\n",
            "8112/8224 [============================>.] - ETA: 0s - loss: 0.6933 - acc: 0.4920Epoch 00078: val_loss did not improve\n",
            "8224/8224 [==============================] - 3s 403us/step - loss: 0.6933 - acc: 0.4933 - val_loss: 0.6931 - val_acc: 0.5067\n",
            "Epoch 79/150\n",
            "8080/8224 [============================>.] - ETA: 0s - loss: 0.6931 - acc: 0.4962Epoch 00079: val_loss did not improve\n",
            "8224/8224 [==============================] - 3s 426us/step - loss: 0.6932 - acc: 0.4960 - val_loss: 0.6931 - val_acc: 0.5067\n",
            "Epoch 80/150\n",
            "8096/8224 [============================>.] - ETA: 0s - loss: 0.6931 - acc: 0.5019Epoch 00080: val_loss did not improve\n",
            "8224/8224 [==============================] - 3s 385us/step - loss: 0.6931 - acc: 0.5015 - val_loss: 0.6931 - val_acc: 0.5062\n",
            "Epoch 81/150\n",
            "8144/8224 [============================>.] - ETA: 0s - loss: 0.6931 - acc: 0.4941Epoch 00081: val_loss did not improve\n",
            "8224/8224 [==============================] - 3s 423us/step - loss: 0.6931 - acc: 0.4934 - val_loss: 0.6931 - val_acc: 0.5058\n",
            "Epoch 82/150\n",
            "8192/8224 [============================>.] - ETA: 0s - loss: 0.6932 - acc: 0.4962Epoch 00082: val_loss did not improve\n",
            "8224/8224 [==============================] - 3s 421us/step - loss: 0.6932 - acc: 0.4961 - val_loss: 0.6930 - val_acc: 0.5116\n",
            "Epoch 83/150\n",
            "8096/8224 [============================>.] - ETA: 0s - loss: 0.6925 - acc: 0.5136Epoch 00083: val_loss did not improve\n",
            "8224/8224 [==============================] - 3s 409us/step - loss: 0.6925 - acc: 0.5136 - val_loss: 0.6927 - val_acc: 0.5116\n",
            "Epoch 84/150\n",
            "8192/8224 [============================>.] - ETA: 0s - loss: 0.6930 - acc: 0.5063Epoch 00084: val_loss did not improve\n",
            "8224/8224 [==============================] - 3s 421us/step - loss: 0.6930 - acc: 0.5060 - val_loss: 0.6929 - val_acc: 0.5027\n",
            "Epoch 85/150\n",
            "8176/8224 [============================>.] - ETA: 0s - loss: 0.6932 - acc: 0.5050Epoch 00085: val_loss did not improve\n",
            "8224/8224 [==============================] - 3s 421us/step - loss: 0.6932 - acc: 0.5051 - val_loss: 0.6930 - val_acc: 0.5058\n",
            "Epoch 86/150\n",
            "8176/8224 [============================>.] - ETA: 0s - loss: 0.6933 - acc: 0.5105Epoch 00086: val_loss did not improve\n",
            "8224/8224 [==============================] - 3s 410us/step - loss: 0.6933 - acc: 0.5102 - val_loss: 0.6932 - val_acc: 0.5018\n",
            "Epoch 87/150\n",
            "8208/8224 [============================>.] - ETA: 0s - loss: 0.6932 - acc: 0.5067Epoch 00087: val_loss did not improve\n",
            "8224/8224 [==============================] - 3s 424us/step - loss: 0.6932 - acc: 0.5067 - val_loss: 0.6930 - val_acc: 0.5058\n",
            "Epoch 88/150\n",
            "8192/8224 [============================>.] - ETA: 0s - loss: 0.6931 - acc: 0.5063Epoch 00088: val_loss did not improve\n",
            "8224/8224 [==============================] - 4s 427us/step - loss: 0.6931 - acc: 0.5066 - val_loss: 0.6931 - val_acc: 0.5040\n",
            "Epoch 89/150\n",
            "8192/8224 [============================>.] - ETA: 0s - loss: 0.6928 - acc: 0.5104Epoch 00089: val_loss improved from 0.69257 to 0.69255, saving model to top-weights.hdf5\n",
            "8224/8224 [==============================] - 3s 424us/step - loss: 0.6928 - acc: 0.5101 - val_loss: 0.6926 - val_acc: 0.5170\n",
            "Epoch 90/150\n",
            "8144/8224 [============================>.] - ETA: 0s - loss: 0.6930 - acc: 0.5037Epoch 00090: val_loss did not improve\n",
            "8224/8224 [==============================] - 3s 418us/step - loss: 0.6930 - acc: 0.5039 - val_loss: 0.6931 - val_acc: 0.5031\n",
            "Epoch 91/150\n",
            "8144/8224 [============================>.] - ETA: 0s - loss: 0.6930 - acc: 0.5074Epoch 00091: val_loss did not improve\n",
            "8224/8224 [==============================] - 3s 416us/step - loss: 0.6930 - acc: 0.5073 - val_loss: 0.6929 - val_acc: 0.5254\n",
            "Epoch 92/150\n",
            "8192/8224 [============================>.] - ETA: 0s - loss: 0.6931 - acc: 0.5104Epoch 00092: val_loss did not improve\n",
            "8224/8224 [==============================] - 3s 419us/step - loss: 0.6931 - acc: 0.5103 - val_loss: 0.6931 - val_acc: 0.5054\n",
            "Epoch 93/150\n",
            "8096/8224 [============================>.] - ETA: 0s - loss: 0.6927 - acc: 0.5099Epoch 00093: val_loss did not improve\n",
            "8224/8224 [==============================] - 3s 414us/step - loss: 0.6927 - acc: 0.5107 - val_loss: 0.6926 - val_acc: 0.5174\n",
            "Epoch 94/150\n",
            "8144/8224 [============================>.] - ETA: 0s - loss: 0.6930 - acc: 0.5098Epoch 00094: val_loss did not improve\n",
            "8224/8224 [==============================] - 3s 415us/step - loss: 0.6930 - acc: 0.5103 - val_loss: 0.6928 - val_acc: 0.5125\n",
            "Epoch 95/150\n",
            "8096/8224 [============================>.] - ETA: 0s - loss: 0.6927 - acc: 0.5107Epoch 00095: val_loss improved from 0.69255 to 0.69228, saving model to top-weights.hdf5\n",
            "8224/8224 [==============================] - 3s 423us/step - loss: 0.6926 - acc: 0.5113 - val_loss: 0.6923 - val_acc: 0.5402\n",
            "Epoch 96/150\n",
            "8096/8224 [============================>.] - ETA: 0s - loss: 0.6927 - acc: 0.5143Epoch 00096: val_loss improved from 0.69228 to 0.69203, saving model to top-weights.hdf5\n",
            "8224/8224 [==============================] - 3s 422us/step - loss: 0.6927 - acc: 0.5137 - val_loss: 0.6920 - val_acc: 0.5513\n",
            "Epoch 97/150\n",
            "8048/8224 [============================>.] - ETA: 0s - loss: 0.6923 - acc: 0.5152Epoch 00097: val_loss did not improve\n",
            "8224/8224 [==============================] - 3s 395us/step - loss: 0.6924 - acc: 0.5146 - val_loss: 0.6925 - val_acc: 0.5147\n",
            "Epoch 98/150\n",
            "8112/8224 [============================>.] - ETA: 0s - loss: 0.6926 - acc: 0.5165Epoch 00098: val_loss improved from 0.69203 to 0.69172, saving model to top-weights.hdf5\n",
            "8224/8224 [==============================] - 3s 405us/step - loss: 0.6925 - acc: 0.5168 - val_loss: 0.6917 - val_acc: 0.5496\n",
            "Epoch 99/150\n",
            "8128/8224 [============================>.] - ETA: 0s - loss: 0.6930 - acc: 0.5048Epoch 00099: val_loss did not improve\n",
            "8224/8224 [==============================] - 3s 417us/step - loss: 0.6930 - acc: 0.5056 - val_loss: 0.6929 - val_acc: 0.5174\n",
            "Epoch 100/150\n",
            "8096/8224 [============================>.] - ETA: 0s - loss: 0.6930 - acc: 0.5068Epoch 00100: val_loss did not improve\n",
            "8224/8224 [==============================] - 3s 408us/step - loss: 0.6929 - acc: 0.5071 - val_loss: 0.6921 - val_acc: 0.5286\n",
            "Epoch 101/150\n",
            "8144/8224 [============================>.] - ETA: 0s - loss: 0.6927 - acc: 0.5098Epoch 00101: val_loss did not improve\n",
            "8224/8224 [==============================] - 3s 425us/step - loss: 0.6927 - acc: 0.5102 - val_loss: 0.6925 - val_acc: 0.5254\n",
            "Epoch 102/150\n",
            "8208/8224 [============================>.] - ETA: 0s - loss: 0.6927 - acc: 0.5097Epoch 00102: val_loss did not improve\n",
            "8224/8224 [==============================] - 4s 436us/step - loss: 0.6927 - acc: 0.5096 - val_loss: 0.6927 - val_acc: 0.5295\n",
            "Epoch 103/150\n",
            "8144/8224 [============================>.] - ETA: 0s - loss: 0.6931 - acc: 0.5114Epoch 00103: val_loss did not improve\n",
            "8224/8224 [==============================] - 4s 435us/step - loss: 0.6931 - acc: 0.5113 - val_loss: 0.6926 - val_acc: 0.5116\n",
            "Epoch 104/150\n",
            "8208/8224 [============================>.] - ETA: 0s - loss: 0.6926 - acc: 0.5085Epoch 00104: val_loss did not improve\n",
            "8224/8224 [==============================] - 4s 426us/step - loss: 0.6926 - acc: 0.5085 - val_loss: 0.6930 - val_acc: 0.5049\n",
            "Epoch 105/150\n",
            "8128/8224 [============================>.] - ETA: 0s - loss: 0.6926 - acc: 0.5103Epoch 00105: val_loss improved from 0.69172 to 0.69156, saving model to top-weights.hdf5\n",
            "8224/8224 [==============================] - 3s 411us/step - loss: 0.6926 - acc: 0.5105 - val_loss: 0.6916 - val_acc: 0.5429\n",
            "Epoch 106/150\n",
            "8096/8224 [============================>.] - ETA: 0s - loss: 0.6925 - acc: 0.5114Epoch 00106: val_loss did not improve\n",
            "8224/8224 [==============================] - 3s 405us/step - loss: 0.6925 - acc: 0.5108 - val_loss: 0.6925 - val_acc: 0.5165\n",
            "Epoch 107/150\n",
            "8112/8224 [============================>.] - ETA: 0s - loss: 0.6928 - acc: 0.5096Epoch 00107: val_loss did not improve\n",
            "8224/8224 [==============================] - 3s 416us/step - loss: 0.6929 - acc: 0.5090 - val_loss: 0.6917 - val_acc: 0.5469\n",
            "Epoch 108/150\n",
            "8160/8224 [============================>.] - ETA: 0s - loss: 0.6928 - acc: 0.5091Epoch 00108: val_loss did not improve\n",
            "8224/8224 [==============================] - 3s 407us/step - loss: 0.6928 - acc: 0.5090 - val_loss: 0.6927 - val_acc: 0.5058\n",
            "Epoch 109/150\n",
            "8096/8224 [============================>.] - ETA: 0s - loss: 0.6926 - acc: 0.5119Epoch 00109: val_loss did not improve\n",
            "8224/8224 [==============================] - 3s 414us/step - loss: 0.6926 - acc: 0.5119 - val_loss: 0.6923 - val_acc: 0.5156\n",
            "Epoch 110/150\n",
            "8112/8224 [============================>.] - ETA: 0s - loss: 0.6918 - acc: 0.5254Epoch 00110: val_loss did not improve\n",
            "8224/8224 [==============================] - 3s 395us/step - loss: 0.6919 - acc: 0.5254 - val_loss: 0.6923 - val_acc: 0.5161\n",
            "Epoch 111/150\n",
            "8064/8224 [============================>.] - ETA: 0s - loss: 0.6927 - acc: 0.5123Epoch 00111: val_loss improved from 0.69156 to 0.69085, saving model to top-weights.hdf5\n",
            "8224/8224 [==============================] - 3s 382us/step - loss: 0.6928 - acc: 0.5124 - val_loss: 0.6908 - val_acc: 0.5540\n",
            "Epoch 112/150\n",
            "8208/8224 [============================>.] - ETA: 0s - loss: 0.6923 - acc: 0.5158Epoch 00112: val_loss did not improve\n",
            "8224/8224 [==============================] - 3s 400us/step - loss: 0.6924 - acc: 0.5157 - val_loss: 0.6912 - val_acc: 0.5437\n",
            "Epoch 113/150\n",
            "8176/8224 [============================>.] - ETA: 0s - loss: 0.6919 - acc: 0.5243Epoch 00113: val_loss did not improve\n",
            "8224/8224 [==============================] - 3s 408us/step - loss: 0.6919 - acc: 0.5243 - val_loss: 0.6916 - val_acc: 0.5246\n",
            "Epoch 114/150\n",
            "8080/8224 [============================>.] - ETA: 0s - loss: 0.6919 - acc: 0.5162Epoch 00114: val_loss did not improve\n",
            "8224/8224 [==============================] - 3s 419us/step - loss: 0.6918 - acc: 0.5178 - val_loss: 0.6914 - val_acc: 0.5415\n",
            "Epoch 115/150\n",
            "8128/8224 [============================>.] - ETA: 0s - loss: 0.6920 - acc: 0.5226Epoch 00115: val_loss did not improve\n",
            "8224/8224 [==============================] - 3s 415us/step - loss: 0.6920 - acc: 0.5215 - val_loss: 0.6932 - val_acc: 0.5049\n",
            "Epoch 116/150\n",
            "8112/8224 [============================>.] - ETA: 0s - loss: 0.6924 - acc: 0.5136Epoch 00116: val_loss did not improve\n",
            "8224/8224 [==============================] - 3s 422us/step - loss: 0.6924 - acc: 0.5130 - val_loss: 0.6927 - val_acc: 0.5085\n",
            "Epoch 117/150\n",
            "8192/8224 [============================>.] - ETA: 0s - loss: 0.6920 - acc: 0.5245Epoch 00117: val_loss did not improve\n",
            "8224/8224 [==============================] - 3s 402us/step - loss: 0.6920 - acc: 0.5243 - val_loss: 0.6918 - val_acc: 0.5192\n",
            "Epoch 118/150\n",
            "8096/8224 [============================>.] - ETA: 0s - loss: 0.6927 - acc: 0.5151Epoch 00118: val_loss did not improve\n",
            "8224/8224 [==============================] - 4s 427us/step - loss: 0.6928 - acc: 0.5148 - val_loss: 0.6925 - val_acc: 0.5125\n",
            "Epoch 119/150\n",
            "8176/8224 [============================>.] - ETA: 0s - loss: 0.6922 - acc: 0.5176Epoch 00119: val_loss did not improve\n",
            "8224/8224 [==============================] - 3s 374us/step - loss: 0.6922 - acc: 0.5178 - val_loss: 0.6920 - val_acc: 0.5174\n",
            "Epoch 120/150\n",
            "8144/8224 [============================>.] - ETA: 0s - loss: 0.6921 - acc: 0.5172Epoch 00120: val_loss did not improve\n",
            "8224/8224 [==============================] - 3s 414us/step - loss: 0.6921 - acc: 0.5167 - val_loss: 0.6912 - val_acc: 0.5348\n",
            "Epoch 121/150\n",
            "8112/8224 [============================>.] - ETA: 0s - loss: 0.6928 - acc: 0.5132Epoch 00121: val_loss improved from 0.69085 to 0.69044, saving model to top-weights.hdf5\n",
            "8224/8224 [==============================] - 3s 407us/step - loss: 0.6927 - acc: 0.5136 - val_loss: 0.6904 - val_acc: 0.5312\n",
            "Epoch 122/150\n",
            "8080/8224 [============================>.] - ETA: 0s - loss: 0.6919 - acc: 0.5196Epoch 00122: val_loss did not improve\n",
            "8224/8224 [==============================] - 3s 401us/step - loss: 0.6919 - acc: 0.5199 - val_loss: 0.6912 - val_acc: 0.5188\n",
            "Epoch 123/150\n",
            "8192/8224 [============================>.] - ETA: 0s - loss: 0.6924 - acc: 0.5107Epoch 00123: val_loss did not improve\n",
            "8224/8224 [==============================] - 3s 414us/step - loss: 0.6924 - acc: 0.5108 - val_loss: 0.6923 - val_acc: 0.5179\n",
            "Epoch 124/150\n",
            "8192/8224 [============================>.] - ETA: 0s - loss: 0.6929 - acc: 0.5099Epoch 00124: val_loss did not improve\n",
            "8224/8224 [==============================] - 3s 394us/step - loss: 0.6929 - acc: 0.5101 - val_loss: 0.6930 - val_acc: 0.5040\n",
            "Epoch 125/150\n",
            "8208/8224 [============================>.] - ETA: 0s - loss: 0.6925 - acc: 0.5134Epoch 00125: val_loss did not improve\n",
            "8224/8224 [==============================] - 3s 425us/step - loss: 0.6925 - acc: 0.5133 - val_loss: 0.6928 - val_acc: 0.5080\n",
            "Epoch 126/150\n",
            "8176/8224 [============================>.] - ETA: 0s - loss: 0.6927 - acc: 0.5113Epoch 00126: val_loss did not improve\n",
            "8224/8224 [==============================] - 3s 399us/step - loss: 0.6927 - acc: 0.5116 - val_loss: 0.6916 - val_acc: 0.5022\n",
            "Epoch 127/150\n",
            "8144/8224 [============================>.] - ETA: 0s - loss: 0.6927 - acc: 0.5093Epoch 00127: val_loss did not improve\n",
            "8224/8224 [==============================] - 3s 422us/step - loss: 0.6927 - acc: 0.5100 - val_loss: 0.6911 - val_acc: 0.5022\n",
            "Epoch 128/150\n",
            "8096/8224 [============================>.] - ETA: 0s - loss: 0.6923 - acc: 0.5201Epoch 00128: val_loss did not improve\n",
            "8224/8224 [==============================] - 3s 416us/step - loss: 0.6923 - acc: 0.5198 - val_loss: 0.6909 - val_acc: 0.5616\n",
            "Epoch 129/150\n",
            "8176/8224 [============================>.] - ETA: 0s - loss: 0.6922 - acc: 0.5224Epoch 00129: val_loss did not improve\n",
            "8224/8224 [==============================] - 3s 371us/step - loss: 0.6922 - acc: 0.5227 - val_loss: 0.6906 - val_acc: 0.5478\n",
            "Epoch 130/150\n",
            "8064/8224 [============================>.] - ETA: 0s - loss: 0.6922 - acc: 0.5129Epoch 00130: val_loss did not improve\n",
            "8224/8224 [==============================] - 3s 405us/step - loss: 0.6922 - acc: 0.5134 - val_loss: 0.6911 - val_acc: 0.5527\n",
            "Epoch 131/150\n",
            "8160/8224 [============================>.] - ETA: 0s - loss: 0.6923 - acc: 0.5066Epoch 00131: val_loss did not improve\n",
            "8224/8224 [==============================] - 3s 416us/step - loss: 0.6922 - acc: 0.5074 - val_loss: 0.6915 - val_acc: 0.5308\n",
            "Epoch 132/150\n",
            "8128/8224 [============================>.] - ETA: 0s - loss: 0.6924 - acc: 0.5170Epoch 00132: val_loss did not improve\n",
            "8224/8224 [==============================] - 3s 413us/step - loss: 0.6924 - acc: 0.5175 - val_loss: 0.6913 - val_acc: 0.5103\n",
            "Epoch 133/150\n",
            "8112/8224 [============================>.] - ETA: 0s - loss: 0.6933 - acc: 0.5053Epoch 00133: val_loss did not improve\n",
            "8224/8224 [==============================] - 3s 417us/step - loss: 0.6933 - acc: 0.5060 - val_loss: 0.6922 - val_acc: 0.5174\n",
            "Epoch 134/150\n",
            "8192/8224 [============================>.] - ETA: 0s - loss: 0.6928 - acc: 0.5168Epoch 00134: val_loss did not improve\n",
            "8224/8224 [==============================] - 3s 383us/step - loss: 0.6928 - acc: 0.5174 - val_loss: 0.6919 - val_acc: 0.5330\n",
            "Epoch 135/150\n",
            "8160/8224 [============================>.] - ETA: 0s - loss: 0.6916 - acc: 0.5276Epoch 00135: val_loss did not improve\n",
            "8224/8224 [==============================] - 3s 415us/step - loss: 0.6915 - acc: 0.5278 - val_loss: 0.6906 - val_acc: 0.5487\n",
            "Epoch 136/150\n",
            "8192/8224 [============================>.] - ETA: 0s - loss: 0.6915 - acc: 0.5228Epoch 00136: val_loss did not improve\n",
            "8224/8224 [==============================] - 3s 394us/step - loss: 0.6915 - acc: 0.5230 - val_loss: 0.6918 - val_acc: 0.5250\n",
            "Epoch 137/150\n",
            "8096/8224 [============================>.] - ETA: 0s - loss: 0.6926 - acc: 0.5146Epoch 00137: val_loss did not improve\n",
            "8224/8224 [==============================] - 3s 412us/step - loss: 0.6926 - acc: 0.5136 - val_loss: 0.6930 - val_acc: 0.5049\n",
            "Epoch 138/150\n",
            "8080/8224 [============================>.] - ETA: 0s - loss: 0.6929 - acc: 0.5067Epoch 00138: val_loss did not improve\n",
            "8224/8224 [==============================] - 3s 410us/step - loss: 0.6929 - acc: 0.5063 - val_loss: 0.6919 - val_acc: 0.5304\n",
            "Epoch 139/150\n",
            "8208/8224 [============================>.] - ETA: 0s - loss: 0.6913 - acc: 0.5219Epoch 00139: val_loss did not improve\n",
            "8224/8224 [==============================] - 3s 417us/step - loss: 0.6913 - acc: 0.5216 - val_loss: 0.6925 - val_acc: 0.5152\n",
            "Epoch 140/150\n",
            "8192/8224 [============================>.] - ETA: 0s - loss: 0.6915 - acc: 0.5264Epoch 00140: val_loss did not improve\n",
            "8224/8224 [==============================] - 3s 393us/step - loss: 0.6915 - acc: 0.5261 - val_loss: 0.6915 - val_acc: 0.5290\n",
            "Epoch 141/150\n",
            "8096/8224 [============================>.] - ETA: 0s - loss: 0.6925 - acc: 0.5133Epoch 00141: val_loss did not improve\n",
            "8224/8224 [==============================] - 3s 417us/step - loss: 0.6925 - acc: 0.5133 - val_loss: 0.6909 - val_acc: 0.5571\n",
            "Epoch 142/150\n",
            "8144/8224 [============================>.] - ETA: 0s - loss: 0.6922 - acc: 0.5201Epoch 00142: val_loss did not improve\n",
            "8224/8224 [==============================] - 4s 431us/step - loss: 0.6922 - acc: 0.5195 - val_loss: 0.6929 - val_acc: 0.5094\n",
            "Epoch 143/150\n",
            "8128/8224 [============================>.] - ETA: 0s - loss: 0.6929 - acc: 0.5098Epoch 00143: val_loss did not improve\n",
            "8224/8224 [==============================] - 3s 411us/step - loss: 0.6929 - acc: 0.5111 - val_loss: 0.6914 - val_acc: 0.5393\n",
            "Epoch 144/150\n",
            "8208/8224 [============================>.] - ETA: 0s - loss: 0.6920 - acc: 0.5222Epoch 00144: val_loss did not improve\n",
            "8224/8224 [==============================] - 3s 414us/step - loss: 0.6921 - acc: 0.5218 - val_loss: 0.6909 - val_acc: 0.5429\n",
            "Epoch 145/150\n",
            "8128/8224 [============================>.] - ETA: 0s - loss: 0.6920 - acc: 0.5171Epoch 00145: val_loss did not improve\n",
            "8224/8224 [==============================] - 3s 410us/step - loss: 0.6920 - acc: 0.5175 - val_loss: 0.6926 - val_acc: 0.5094\n",
            "Epoch 146/150\n",
            "8112/8224 [============================>.] - ETA: 0s - loss: 0.6918 - acc: 0.5198Epoch 00146: val_loss did not improve\n",
            "8224/8224 [==============================] - 3s 404us/step - loss: 0.6918 - acc: 0.5203 - val_loss: 0.6912 - val_acc: 0.5362\n",
            "Epoch 147/150\n",
            "8192/8224 [============================>.] - ETA: 0s - loss: 0.6917 - acc: 0.5204Epoch 00147: val_loss did not improve\n",
            "8224/8224 [==============================] - 3s 373us/step - loss: 0.6917 - acc: 0.5204 - val_loss: 0.6909 - val_acc: 0.5420\n",
            "Epoch 148/150\n",
            "8160/8224 [============================>.] - ETA: 0s - loss: 0.6914 - acc: 0.5188Epoch 00148: val_loss did not improve\n",
            "8224/8224 [==============================] - 3s 394us/step - loss: 0.6914 - acc: 0.5184 - val_loss: 0.6911 - val_acc: 0.5353\n",
            "Epoch 149/150\n",
            "8208/8224 [============================>.] - ETA: 0s - loss: 0.6912 - acc: 0.5261Epoch 00149: val_loss did not improve\n",
            "8224/8224 [==============================] - 3s 402us/step - loss: 0.6912 - acc: 0.5263 - val_loss: 0.6905 - val_acc: 0.5607\n",
            "Epoch 150/150\n",
            "8192/8224 [============================>.] - ETA: 0s - loss: 0.6925 - acc: 0.5184Epoch 00150: val_loss did not improve\n",
            "8224/8224 [==============================] - 3s 406us/step - loss: 0.6925 - acc: 0.5186 - val_loss: 0.6920 - val_acc: 0.5179\n"
          ],
          "name": "stdout"
        }
      ]
    },
    {
      "cell_type": "code",
      "metadata": {
        "id": "LjooFFpr_0-y",
        "colab_type": "code",
        "outputId": "3bd6198c-40a4-4868-f259-21551799b395",
        "colab": {
          "base_uri": "https://localhost:8080/",
          "height": 573
        }
      },
      "source": [
        "%matplotlib inline\n",
        "from matplotlib import pyplot as plt\n",
        "\n",
        "plt.plot(history.history['acc'])\n",
        "plt.plot(history.history['val_acc'])\n",
        "plt.title('model accuracy')\n",
        "plt.ylabel('accuracy')\n",
        "plt.xlabel('epoch')\n",
        "plt.legend(['train', 'val'], loc='upper left')\n",
        "plt.show()\n",
        "\n",
        "plt.plot(history.history['loss'])\n",
        "plt.plot(history.history['val_loss'])\n",
        "plt.title('model loss')\n",
        "plt.ylabel('loss')\n",
        "plt.xlabel('epoch')\n",
        "plt.legend(['train', 'val'], loc='upper left')\n",
        "plt.show()"
      ],
      "execution_count": 0,
      "outputs": [
        {
          "output_type": "display_data",
          "data": {
            "image/png": "[encoded data removed]",
            "text/plain": [
              "<Figure size 432x288 with 1 Axes>"
            ]
          },
          "metadata": {
            "tags": []
          }
        },
        {
          "output_type": "display_data",
          "data": {
            "image/png": "[encoded data removed]",
            "text/plain": [
              "<Figure size 432x288 with 1 Axes>"
            ]
          },
          "metadata": {
            "tags": []
          }
        }
      ]
    },
    {
      "cell_type": "markdown",
      "metadata": {
        "id": "sW9c3R6aOyl2",
        "colab_type": "text"
      },
      "source": [
        "**Объединяем сверточную и полносвязную сеть**"
      ]
    },
    {
      "cell_type": "code",
      "metadata": {
        "id": "yBNDmMY3l9bI",
        "colab_type": "code",
        "colab": {}
      },
      "source": [
        ""
      ],
      "execution_count": 0,
      "outputs": []
    },
    {
      "cell_type": "code",
      "metadata": {
        "id": "GLBg8jAfz8xU",
        "colab_type": "code",
        "outputId": "7cbbf8dc-f5dc-4896-e3ff-8669fa61d158",
        "colab": {
          "base_uri": "https://localhost:8080/",
          "height": 1000
        }
      },
      "source": [
        "from keras.models import Model\n",
        "\n",
        "batch_size = 16\n",
        "epochs = 50\n",
        "\n",
        "input_tensor = Input(shape=(img_height,img_width,3))\n",
        "\n",
        "base_model = SqueezeNet(weights='imagenet',\n",
        "                          include_top=False,\n",
        "                          input_shape=(img_width, img_height, 3),\n",
        "                          pooling='avg')\n",
        "\n",
        "top_model = Sequential()\n",
        "    \n",
        "top_model.add(Dense(512, activation='relu', input_shape=base_model.output_shape[1:]))\n",
        "top_model.add(Dropout(0.5))\n",
        "\n",
        "top_model.add(Dense(256, activation='relu', input_shape=base_model.output_shape[1:]))\n",
        "top_model.add(Dropout(0.5))\n",
        "\n",
        "top_model.add(Dense(128, activation='relu', input_shape=base_model.output_shape[1:]))\n",
        "top_model.add(Dropout(0.5))  \n",
        "\n",
        "top_model.add(Dense(64, activation='relu'))\n",
        "top_model.add(Dropout(0.5))  \n",
        "\n",
        "top_model.add(Dense(1, activation='sigmoid'))\n",
        "\n",
        "top_model.load_weights('top-weights.hdf5')\n",
        "\n",
        "model = Model(inputs=base_model.input, outputs=top_model(base_model.output))\n",
        "\n",
        "model.compile(optimizer=SGD(lr=0.005, momentum=0.1, nesterov=True),\n",
        "              loss='binary_crossentropy',\n",
        "              metrics=['accuracy'])\n",
        "\n",
        "\n",
        "checkpointer = ModelCheckpoint(filepath='weights.hdf5', verbose=1, save_best_only=True)\n",
        "\n",
        "train_datagen = image.ImageDataGenerator(\n",
        "        rescale=1./255,\n",
        "        shear_range=0.2,\n",
        "        zoom_range=0.2,\n",
        "        horizontal_flip=True)\n",
        "\n",
        "test_datagen = image.ImageDataGenerator(rescale=1./255)\n",
        "\n",
        "train_generator = train_datagen.flow_from_directory(\n",
        "        train_data_dir,\n",
        "        target_size=(img_height, img_width),\n",
        "        batch_size=batch_size,\n",
        "        class_mode='binary')\n",
        "\n",
        "validation_generator = test_datagen.flow_from_directory(\n",
        "        validation_data_dir,\n",
        "        target_size=(img_height, img_width),\n",
        "        batch_size=batch_size,\n",
        "        class_mode='binary')\n",
        "\n",
        "history = model.fit_generator(train_generator,\n",
        "                            steps_per_epoch=nb_train_samples // batch_size,\n",
        "                            epochs=epochs,\n",
        "                            validation_data=validation_generator,\n",
        "                            validation_steps=nb_validation_samples // batch_size)"
      ],
      "execution_count": 0,
      "outputs": [
        {
          "output_type": "stream",
          "text": [
            "Found 8224 images belonging to 2 classes.\n",
            "Found 2240 images belonging to 2 classes.\n",
            "Epoch 1/50\n",
            "514/514 [==============================] - 167s 325ms/step - loss: 0.6936 - acc: 0.5078 - val_loss: 0.6934 - val_acc: 0.5022\n",
            "Epoch 2/50\n",
            "514/514 [==============================] - 161s 314ms/step - loss: 0.6943 - acc: 0.5013 - val_loss: 0.6914 - val_acc: 0.5540\n",
            "Epoch 3/50\n",
            "514/514 [==============================] - 159s 309ms/step - loss: 0.6937 - acc: 0.5018 - val_loss: 0.6921 - val_acc: 0.5170\n",
            "Epoch 4/50\n",
            "514/514 [==============================] - 158s 307ms/step - loss: 0.6931 - acc: 0.5168 - val_loss: 0.6932 - val_acc: 0.5018\n",
            "Epoch 5/50\n",
            "514/514 [==============================] - 156s 304ms/step - loss: 0.6932 - acc: 0.5001 - val_loss: 0.6931 - val_acc: 0.5045\n",
            "Epoch 6/50\n",
            "514/514 [==============================] - 157s 305ms/step - loss: 0.6937 - acc: 0.5038 - val_loss: 0.6928 - val_acc: 0.5232\n",
            "Epoch 7/50\n",
            "514/514 [==============================] - 156s 303ms/step - loss: 0.6933 - acc: 0.5068 - val_loss: 0.6931 - val_acc: 0.5040\n",
            "Epoch 8/50\n",
            "514/514 [==============================] - 156s 304ms/step - loss: 0.6929 - acc: 0.5100 - val_loss: 0.6897 - val_acc: 0.5214\n",
            "Epoch 9/50\n",
            "514/514 [==============================] - 154s 300ms/step - loss: 0.6925 - acc: 0.5264 - val_loss: 0.6893 - val_acc: 0.5710\n",
            "Epoch 10/50\n",
            "514/514 [==============================] - 156s 303ms/step - loss: 0.6919 - acc: 0.5175 - val_loss: 0.6920 - val_acc: 0.5089\n",
            "Epoch 11/50\n",
            "514/514 [==============================] - 153s 298ms/step - loss: 0.6932 - acc: 0.5156 - val_loss: 0.6931 - val_acc: 0.5036\n",
            "Epoch 12/50\n",
            "514/514 [==============================] - 155s 301ms/step - loss: 0.6942 - acc: 0.5040 - val_loss: 0.6911 - val_acc: 0.5397\n",
            "Epoch 13/50\n",
            "514/514 [==============================] - 154s 299ms/step - loss: 0.6908 - acc: 0.5249 - val_loss: 0.6869 - val_acc: 0.5652\n",
            "Epoch 14/50\n",
            "514/514 [==============================] - 155s 301ms/step - loss: 0.6926 - acc: 0.5173 - val_loss: 0.6923 - val_acc: 0.5094\n",
            "Epoch 15/50\n",
            "514/514 [==============================] - 153s 297ms/step - loss: 0.6902 - acc: 0.5393 - val_loss: 0.6930 - val_acc: 0.5263\n",
            "Epoch 16/50\n",
            "514/514 [==============================] - 156s 303ms/step - loss: 0.6918 - acc: 0.5192 - val_loss: 0.6880 - val_acc: 0.5598\n",
            "Epoch 17/50\n",
            "514/514 [==============================] - 154s 300ms/step - loss: 0.6895 - acc: 0.5368 - val_loss: 0.6914 - val_acc: 0.5143\n",
            "Epoch 18/50\n",
            "514/514 [==============================] - 156s 303ms/step - loss: 0.6928 - acc: 0.5215 - val_loss: 0.6920 - val_acc: 0.5143\n",
            "Epoch 19/50\n",
            "514/514 [==============================] - 153s 298ms/step - loss: 0.6897 - acc: 0.5400 - val_loss: 0.6919 - val_acc: 0.5152\n",
            "Epoch 20/50\n",
            "514/514 [==============================] - 154s 299ms/step - loss: 0.6883 - acc: 0.5404 - val_loss: 0.6876 - val_acc: 0.5473\n",
            "Epoch 21/50\n",
            "514/514 [==============================] - 153s 299ms/step - loss: 0.6854 - acc: 0.5471 - val_loss: 0.6889 - val_acc: 0.5362\n",
            "Epoch 22/50\n",
            "514/514 [==============================] - 153s 298ms/step - loss: 0.6826 - acc: 0.5654 - val_loss: 0.6863 - val_acc: 0.5536\n",
            "Epoch 23/50\n",
            "514/514 [==============================] - 152s 295ms/step - loss: 0.6824 - acc: 0.5646 - val_loss: 0.6850 - val_acc: 0.5558\n",
            "Epoch 24/50\n",
            "514/514 [==============================] - 154s 299ms/step - loss: 0.6810 - acc: 0.5698 - val_loss: 0.6932 - val_acc: 0.5112\n",
            "Epoch 25/50\n",
            "514/514 [==============================] - 150s 293ms/step - loss: 0.6792 - acc: 0.5745 - val_loss: 0.6777 - val_acc: 0.5924\n",
            "Epoch 26/50\n",
            "514/514 [==============================] - 153s 298ms/step - loss: 0.6758 - acc: 0.5773 - val_loss: 0.6825 - val_acc: 0.5638\n",
            "Epoch 27/50\n",
            "514/514 [==============================] - 153s 297ms/step - loss: 0.6767 - acc: 0.5882 - val_loss: 0.6848 - val_acc: 0.5464\n",
            "Epoch 28/50\n",
            "514/514 [==============================] - 153s 298ms/step - loss: 0.6703 - acc: 0.5956 - val_loss: 0.6623 - val_acc: 0.6246\n",
            "Epoch 29/50\n",
            "514/514 [==============================] - 153s 297ms/step - loss: 0.6695 - acc: 0.5985 - val_loss: 0.6638 - val_acc: 0.6268\n",
            "Epoch 30/50\n",
            "514/514 [==============================] - 152s 295ms/step - loss: 0.6698 - acc: 0.5972 - val_loss: 0.6757 - val_acc: 0.5759\n",
            "Epoch 31/50\n",
            "514/514 [==============================] - 151s 293ms/step - loss: 0.6648 - acc: 0.6125 - val_loss: 0.6688 - val_acc: 0.5991\n",
            "Epoch 32/50\n",
            "514/514 [==============================] - 152s 296ms/step - loss: 0.6625 - acc: 0.6107 - val_loss: 0.6564 - val_acc: 0.6455\n",
            "Epoch 33/50\n",
            "514/514 [==============================] - 153s 298ms/step - loss: 0.6578 - acc: 0.6229 - val_loss: 0.6758 - val_acc: 0.5656\n",
            "Epoch 34/50\n",
            "514/514 [==============================] - 151s 294ms/step - loss: 0.6566 - acc: 0.6201 - val_loss: 0.6935 - val_acc: 0.5237\n",
            "Epoch 35/50\n",
            "514/514 [==============================] - 152s 295ms/step - loss: 0.6548 - acc: 0.6226 - val_loss: 0.6669 - val_acc: 0.5853\n",
            "Epoch 36/50\n",
            "514/514 [==============================] - 152s 295ms/step - loss: 0.6516 - acc: 0.6254 - val_loss: 0.6760 - val_acc: 0.5656\n",
            "Epoch 37/50\n",
            "514/514 [==============================] - 152s 296ms/step - loss: 0.6473 - acc: 0.6328 - val_loss: 0.6556 - val_acc: 0.6246\n",
            "Epoch 38/50\n",
            "514/514 [==============================] - 152s 296ms/step - loss: 0.6492 - acc: 0.6305 - val_loss: 0.6446 - val_acc: 0.6545\n",
            "Epoch 39/50\n",
            "514/514 [==============================] - 153s 297ms/step - loss: 0.6439 - acc: 0.6373 - val_loss: 0.6780 - val_acc: 0.5558\n",
            "Epoch 40/50\n",
            "514/514 [==============================] - 151s 293ms/step - loss: 0.6399 - acc: 0.6452 - val_loss: 0.7055 - val_acc: 0.5129\n",
            "Epoch 41/50\n",
            "514/514 [==============================] - 150s 293ms/step - loss: 0.6387 - acc: 0.6443 - val_loss: 0.6599 - val_acc: 0.5973\n",
            "Epoch 42/50\n",
            "514/514 [==============================] - 152s 296ms/step - loss: 0.6363 - acc: 0.6463 - val_loss: 0.6442 - val_acc: 0.6446\n",
            "Epoch 43/50\n",
            "514/514 [==============================] - 151s 294ms/step - loss: 0.6327 - acc: 0.6555 - val_loss: 0.6838 - val_acc: 0.5433\n",
            "Epoch 44/50\n",
            "514/514 [==============================] - 151s 294ms/step - loss: 0.6317 - acc: 0.6492 - val_loss: 0.6424 - val_acc: 0.6411\n",
            "Epoch 45/50\n",
            "514/514 [==============================] - 151s 294ms/step - loss: 0.6322 - acc: 0.6483 - val_loss: 0.6529 - val_acc: 0.6196\n",
            "Epoch 46/50\n",
            "514/514 [==============================] - 152s 295ms/step - loss: 0.6301 - acc: 0.6520 - val_loss: 0.6366 - val_acc: 0.6504\n",
            "Epoch 47/50\n",
            "514/514 [==============================] - 151s 293ms/step - loss: 0.6249 - acc: 0.6600 - val_loss: 0.6470 - val_acc: 0.6254\n",
            "Epoch 48/50\n",
            "514/514 [==============================] - 153s 297ms/step - loss: 0.6201 - acc: 0.6642 - val_loss: 0.6310 - val_acc: 0.6634\n",
            "Epoch 49/50\n",
            "514/514 [==============================] - 152s 296ms/step - loss: 0.6245 - acc: 0.6572 - val_loss: 0.6410 - val_acc: 0.6366\n",
            "Epoch 50/50\n",
            "514/514 [==============================] - 152s 295ms/step - loss: 0.6231 - acc: 0.6598 - val_loss: 0.6363 - val_acc: 0.6469\n"
          ],
          "name": "stdout"
        }
      ]
    },
    {
      "cell_type": "code",
      "metadata": {
        "id": "SSfO5B7cfOUr",
        "colab_type": "code",
        "colab": {}
      },
      "source": [
        ""
      ],
      "execution_count": 0,
      "outputs": []
    },
    {
      "cell_type": "markdown",
      "metadata": {
        "id": "EiD9A9V_PFhl",
        "colab_type": "text"
      },
      "source": [
        "**Тестируем полученную сеть**"
      ]
    },
    {
      "cell_type": "code",
      "metadata": {
        "id": "bPkKI4WJmMFF",
        "colab_type": "code",
        "outputId": "3ddaf501-4bf0-4f82-f286-240ac25d6adc",
        "colab": {
          "base_uri": "https://localhost:8080/",
          "height": 52
        }
      },
      "source": [
        "test_generator = data_generator.flow_from_directory(\n",
        "    test_data_dir,\n",
        "    target_size=(img_height, img_width),\n",
        "    batch_size=batch_size,\n",
        "    class_mode='binary',\n",
        "    shuffle=False)\n",
        "\n",
        "score = model.evaluate_generator(test_generator, batch_size)\n",
        "\n",
        "print(\"Loss: \", score[0], \"Accuracy: \", score[1])"
      ],
      "execution_count": 0,
      "outputs": [
        {
          "output_type": "stream",
          "text": [
            "Found 2401 images belonging to 2 classes.\n",
            "Loss:  0.6386033137457314 Accuracy:  0.6438983756768013\n"
          ],
          "name": "stdout"
        }
      ]
    },
    {
      "cell_type": "markdown",
      "metadata": {
        "id": "nbDD4tT2PeZK",
        "colab_type": "text"
      },
      "source": [
        "**Сохраняем лучшие веса сети**"
      ]
    },
    {
      "cell_type": "code",
      "metadata": {
        "id": "AZJRzFTu0Vef",
        "colab_type": "code",
        "colab": {}
      },
      "source": [
        "model.save('fake_orig_squeezenet_v1.h5')"
      ],
      "execution_count": 0,
      "outputs": []
    },
    {
      "cell_type": "code",
      "metadata": {
        "id": "lQdQkuin497A",
        "colab_type": "code",
        "colab": {}
      },
      "source": [
        ""
      ],
      "execution_count": 0,
      "outputs": []
    }
  ]
}
