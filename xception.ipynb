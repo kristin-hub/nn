{
  "nbformat": 4,
  "nbformat_minor": 0,
  "metadata": {
    "colab": {
      "name": "xception.ipynb",
      "provenance": [],
      "collapsed_sections": [],
      "include_colab_link": true
    },
    "kernelspec": {
      "name": "python3",
      "display_name": "Python 3"
    },
    "accelerator": "GPU"
  },
  "cells": [
    {
      "cell_type": "markdown",
      "metadata": {
        "id": "view-in-github",
        "colab_type": "text"
      },
      "source": [
        "<a href=\"https://colab.research.google.com/github/kristin-hub/nn/blob/master/xception.ipynb\" target=\"_parent\"><img src=\"https://colab.research.google.com/assets/colab-badge.svg\" alt=\"Open In Colab\"/></a>"
      ]
    },
    {
      "cell_type": "markdown",
      "metadata": {
        "id": "z-Wb-GxXQxSA",
        "colab_type": "text"
      },
      "source": [
        "**Подключаем датасет с гугл диска**"
      ]
    },
    {
      "cell_type": "code",
      "metadata": {
        "id": "FJ0tjFVrzzfm",
        "colab_type": "code",
        "outputId": "5fecd425-722c-454f-cd05-928b554c13ed",
        "colab": {
          "base_uri": "https://localhost:8080/",
          "height": 124
        }
      },
      "source": [
        "from google.colab import drive\n",
        "drive.mount('/content/drive')"
      ],
      "execution_count": 0,
      "outputs": [
        {
          "output_type": "stream",
          "text": [
            "Go to this URL in a browser: https://accounts.google.com/o/oauth2/auth?client_id=947318989803-6bn6qk8qdgf4n4g3pfee6491hc0brc4i.apps.googleusercontent.com&redirect_uri=urn%3Aietf%3Awg%3Aoauth%3A2.0%3Aoob&scope=email%20https%3A%2F%2Fwww.googleapis.com%2Fauth%2Fdocs.test%20https%3A%2F%2Fwww.googleapis.com%2Fauth%2Fdrive%20https%3A%2F%2Fwww.googleapis.com%2Fauth%2Fdrive.photos.readonly%20https%3A%2F%2Fwww.googleapis.com%2Fauth%2Fpeopleapi.readonly&response_type=code\n",
            "\n",
            "Enter your authorization code:\n",
            "··········\n",
            "Mounted at /content/drive\n"
          ],
          "name": "stdout"
        }
      ]
    },
    {
      "cell_type": "code",
      "metadata": {
        "id": "CVicUGECIQSS",
        "colab_type": "code",
        "colab": {}
      },
      "source": [
        ""
      ],
      "execution_count": 0,
      "outputs": []
    },
    {
      "cell_type": "code",
      "metadata": {
        "id": "cF7tAvgxz8Ts",
        "colab_type": "code",
        "colab": {}
      },
      "source": [
        "from os import listdir, rename\n",
        "from os.path import isfile, join\n",
        "\n",
        "source_dir = 'drive/My Drive/data'\n",
        "train_dir = 'drive/My Drive/data/train'\n",
        "validation_dir = 'drive/My Drive/data/validation'\n",
        "test_dir = 'drive/My Drive/data/test'\n",
        "\n",
        "fake_dir = 'fake'\n",
        "orig_dir = 'orig'\n",
        "\n",
        "images = [f for f in listdir(source_dir) if isfile(join(source_dir, f))]"
      ],
      "execution_count": 0,
      "outputs": []
    },
    {
      "cell_type": "code",
      "metadata": {
        "id": "xVEXD5l90HjE",
        "colab_type": "code",
        "colab": {}
      },
      "source": [
        "import numpy as np\n",
        "import tensorflow as tf\n",
        "\n",
        "from keras.backend.tensorflow_backend import set_session\n",
        "\n",
        "np.random.seed(0)\n",
        "tf.set_random_seed(0)\n",
        "\n",
        "config = tf.ConfigProto()\n",
        "config.gpu_options.allow_growth = True\n",
        "set_session(tf.Session(config=config))\n"
      ],
      "execution_count": 0,
      "outputs": []
    },
    {
      "cell_type": "markdown",
      "metadata": {
        "id": "4O5QN1TiTG5W",
        "colab_type": "text"
      },
      "source": [
        "**Проверяем включена ли GPU**"
      ]
    },
    {
      "cell_type": "code",
      "metadata": {
        "id": "RdcgcrJT0OcF",
        "colab_type": "code",
        "outputId": "e2cd224e-1ddb-4298-92dc-0b968810b606",
        "colab": {
          "base_uri": "https://localhost:8080/",
          "height": 555
        }
      },
      "source": [
        "from tensorflow.python.client import device_lib\n",
        "print(device_lib.list_local_devices())"
      ],
      "execution_count": 0,
      "outputs": [
        {
          "output_type": "stream",
          "text": [
            "[name: \"/device:CPU:0\"\n",
            "device_type: \"CPU\"\n",
            "memory_limit: 268435456\n",
            "locality {\n",
            "}\n",
            "incarnation: 7222712971415576563\n",
            ", name: \"/device:XLA_CPU:0\"\n",
            "device_type: \"XLA_CPU\"\n",
            "memory_limit: 17179869184\n",
            "locality {\n",
            "}\n",
            "incarnation: 3571975912959636385\n",
            "physical_device_desc: \"device: XLA_CPU device\"\n",
            ", name: \"/device:XLA_GPU:0\"\n",
            "device_type: \"XLA_GPU\"\n",
            "memory_limit: 17179869184\n",
            "locality {\n",
            "}\n",
            "incarnation: 10606964997828769973\n",
            "physical_device_desc: \"device: XLA_GPU device\"\n",
            ", name: \"/device:GPU:0\"\n",
            "device_type: \"GPU\"\n",
            "memory_limit: 15956161332\n",
            "locality {\n",
            "  bus_id: 1\n",
            "  links {\n",
            "  }\n",
            "}\n",
            "incarnation: 18091890010668009990\n",
            "physical_device_desc: \"device: 0, name: Tesla P100-PCIE-16GB, pci bus id: 0000:00:04.0, compute capability: 6.0\"\n",
            "]\n"
          ],
          "name": "stdout"
        }
      ]
    },
    {
      "cell_type": "code",
      "metadata": {
        "id": "0E1aUmrE0fjb",
        "colab_type": "code",
        "colab": {}
      },
      "source": [
        "train_data_dir = 'drive/My Drive/data/train'\n",
        "test_data_dir = 'drive/My Drive/data/test'\n",
        "validation_data_dir = 'drive/My Drive/data/validation'\n",
        "\n",
        "img_height = 299\n",
        "img_width = 299\n",
        "\n",
        "batch_size = 16\n",
        "epochs = 30\n",
        "\n",
        "train_first_class = 4112\n",
        "train_second_class = 4112\n",
        "\n",
        "val_first_class = 1120\n",
        "val_second_class = 1120\n",
        "\n",
        "nb_train_samples = train_first_class + train_second_class\n",
        "nb_validation_samples = val_first_class + val_second_class\n"
      ],
      "execution_count": 0,
      "outputs": []
    },
    {
      "cell_type": "code",
      "metadata": {
        "id": "YJu2VcsbHPK0",
        "colab_type": "code",
        "colab": {}
      },
      "source": [
        ""
      ],
      "execution_count": 0,
      "outputs": []
    },
    {
      "cell_type": "markdown",
      "metadata": {
        "id": "4QiONDpoD63O",
        "colab_type": "text"
      },
      "source": [
        "**Прогоняем наш датасет через сверточные слои предобученной сети Xception, чтобы получить признаки и сохраняем их**"
      ]
    },
    {
      "cell_type": "code",
      "metadata": {
        "id": "U-0UpJkR1X6n",
        "colab_type": "code",
        "outputId": "51b4fb89-58d0-4bc9-dfcf-49e366049a2a",
        "colab": {
          "base_uri": "https://localhost:8080/",
          "height": 87
        }
      },
      "source": [
        "from keras.layers import Input\n",
        "from keras.applications import xception\n",
        "from keras.preprocessing import image\n",
        "\n",
        "input_tensor = Input(shape=(img_height,img_width,3))\n",
        "\n",
        "base_model = xception.Xception(weights='imagenet',\n",
        "                          include_top=False,\n",
        "                          input_shape=(img_width, img_height, 3),\n",
        "                          pooling='avg')\n",
        "\n",
        "\n",
        "data_generator = image.ImageDataGenerator(rescale=1. / 255)\n",
        "\n",
        "train_generator = data_generator.flow_from_directory(\n",
        "    train_data_dir,\n",
        "    target_size=(img_height, img_width),\n",
        "    batch_size=batch_size,\n",
        "    class_mode=None,\n",
        "    shuffle=False)\n",
        "\n",
        "bottleneck_features_train = base_model.predict_generator(\n",
        "        train_generator, \n",
        "        nb_train_samples // batch_size)\n",
        "\n",
        "print('Prediction of the training set finished.')\n",
        "\n",
        "np.save(open('bottleneck_features_train.npy', 'wb'),\n",
        "            bottleneck_features_train)\n",
        "\n",
        "validation_generator = data_generator.flow_from_directory(\n",
        "    validation_data_dir,\n",
        "    target_size=(img_height, img_width),\n",
        "    batch_size=batch_size,\n",
        "    class_mode=None,\n",
        "    shuffle=False)\n",
        "\n",
        "bottleneck_features_validation = base_model.predict_generator(\n",
        "        validation_generator, \n",
        "        nb_validation_samples // batch_size)\n",
        "\n",
        "print('Prediction of the validation set finished.')\n",
        "\n",
        "np.save(open('bottleneck_features_validation.npy', 'wb'),\n",
        "            bottleneck_features_validation)"
      ],
      "execution_count": 0,
      "outputs": [
        {
          "output_type": "stream",
          "text": [
            "Found 8224 images belonging to 2 classes.\n",
            "Prediction of the training set finished.\n",
            "Found 2240 images belonging to 2 classes.\n",
            "Prediction of the validation set finished.\n"
          ],
          "name": "stdout"
        }
      ]
    },
    {
      "cell_type": "code",
      "metadata": {
        "id": "G-AdPmFKFKN3",
        "colab_type": "code",
        "colab": {}
      },
      "source": [
        ""
      ],
      "execution_count": 0,
      "outputs": []
    },
    {
      "cell_type": "code",
      "metadata": {
        "id": "HuCox5Ev1sWz",
        "colab_type": "code",
        "colab": {}
      },
      "source": [
        "train_data = np.load(open('bottleneck_features_train.npy', 'rb'))\n",
        "train_labels = np.array([0] * train_first_class + [1] * train_second_class)\n",
        "\n",
        "validation_data = np.load(open('bottleneck_features_validation.npy', 'rb'))\n",
        "validation_labels = np.array([0] * (val_first_class) + [1] * (val_second_class))"
      ],
      "execution_count": 0,
      "outputs": []
    },
    {
      "cell_type": "markdown",
      "metadata": {
        "id": "NivdVMbkN5yz",
        "colab_type": "text"
      },
      "source": [
        "**Создадим полносвязные слои и обучим их на полученных признаках**"
      ]
    },
    {
      "cell_type": "code",
      "metadata": {
        "id": "t0bhS3d3_whU",
        "colab_type": "code",
        "outputId": "a0971593-de48-42ce-8e20-f0fd7e1ddc47",
        "colab": {
          "base_uri": "https://localhost:8080/",
          "height": 1000
        }
      },
      "source": [
        "from keras.models import Sequential\n",
        "from keras.callbacks import ModelCheckpoint\n",
        "from keras.optimizers import SGD\n",
        "from keras.layers import Dropout, Dense\n",
        "\n",
        "model = Sequential()\n",
        "    \n",
        "model.add(Dense(256, activation='relu', input_shape=base_model.output_shape[1:]))\n",
        "model.add(Dropout(0.5))\n",
        "\n",
        "model.add(Dense(128, activation='relu'))\n",
        "model.add(Dropout(0.5))    \n",
        "\n",
        "model.add(Dense(64, activation='relu'))\n",
        "model.add(Dropout(0.5))   \n",
        "\n",
        "model.add(Dense(1, activation='sigmoid'))\n",
        "\n",
        "model.compile(optimizer=SGD(lr=0.005),\n",
        "              loss='binary_crossentropy',\n",
        "              metrics=['accuracy'])\n",
        "\n",
        "checkpointer = ModelCheckpoint(filepath='top-weights.hdf5', verbose=1, save_best_only=True)\n",
        "\n",
        "history = model.fit(train_data,\n",
        "                    train_labels,\n",
        "                    epochs=epochs,\n",
        "                    batch_size=batch_size,\n",
        "                    callbacks=[checkpointer],\n",
        "                    validation_data=(validation_data, validation_labels))"
      ],
      "execution_count": 0,
      "outputs": [
        {
          "output_type": "stream",
          "text": [
            "Train on 8224 samples, validate on 2240 samples\n",
            "Epoch 1/30\n",
            "8224/8224 [==============================] - 5s 636us/step - loss: 0.7099 - acc: 0.4996 - val_loss: 0.6857 - val_acc: 0.5518\n",
            "\n",
            "Epoch 00001: val_loss improved from inf to 0.68568, saving model to top-weights.hdf5\n",
            "Epoch 2/30\n",
            "8224/8224 [==============================] - 2s 282us/step - loss: 0.6946 - acc: 0.5253 - val_loss: 0.6816 - val_acc: 0.5906\n",
            "\n",
            "Epoch 00002: val_loss improved from 0.68568 to 0.68161, saving model to top-weights.hdf5\n",
            "Epoch 3/30\n",
            "8224/8224 [==============================] - 2s 279us/step - loss: 0.6873 - acc: 0.5469 - val_loss: 0.6757 - val_acc: 0.6076\n",
            "\n",
            "Epoch 00003: val_loss improved from 0.68161 to 0.67568, saving model to top-weights.hdf5\n",
            "Epoch 4/30\n",
            "8224/8224 [==============================] - 2s 291us/step - loss: 0.6824 - acc: 0.5585 - val_loss: 0.6690 - val_acc: 0.6308\n",
            "\n",
            "Epoch 00004: val_loss improved from 0.67568 to 0.66898, saving model to top-weights.hdf5\n",
            "Epoch 5/30\n",
            "8224/8224 [==============================] - 2s 276us/step - loss: 0.6772 - acc: 0.5655 - val_loss: 0.6590 - val_acc: 0.6424\n",
            "\n",
            "Epoch 00005: val_loss improved from 0.66898 to 0.65903, saving model to top-weights.hdf5\n",
            "Epoch 6/30\n",
            "8224/8224 [==============================] - 2s 287us/step - loss: 0.6676 - acc: 0.5878 - val_loss: 0.6496 - val_acc: 0.6388\n",
            "\n",
            "Epoch 00006: val_loss improved from 0.65903 to 0.64959, saving model to top-weights.hdf5\n",
            "Epoch 7/30\n",
            "8224/8224 [==============================] - 2s 277us/step - loss: 0.6551 - acc: 0.6071 - val_loss: 0.6372 - val_acc: 0.6540\n",
            "\n",
            "Epoch 00007: val_loss improved from 0.64959 to 0.63724, saving model to top-weights.hdf5\n",
            "Epoch 8/30\n",
            "8224/8224 [==============================] - 2s 271us/step - loss: 0.6514 - acc: 0.6177 - val_loss: 0.6289 - val_acc: 0.6634\n",
            "\n",
            "Epoch 00008: val_loss improved from 0.63724 to 0.62887, saving model to top-weights.hdf5\n",
            "Epoch 9/30\n",
            "8224/8224 [==============================] - 2s 289us/step - loss: 0.6443 - acc: 0.6340 - val_loss: 0.6189 - val_acc: 0.6714\n",
            "\n",
            "Epoch 00009: val_loss improved from 0.62887 to 0.61889, saving model to top-weights.hdf5\n",
            "Epoch 10/30\n",
            "8224/8224 [==============================] - 2s 284us/step - loss: 0.6319 - acc: 0.6464 - val_loss: 0.6130 - val_acc: 0.6723\n",
            "\n",
            "Epoch 00010: val_loss improved from 0.61889 to 0.61303, saving model to top-weights.hdf5\n",
            "Epoch 11/30\n",
            "8224/8224 [==============================] - 2s 279us/step - loss: 0.6265 - acc: 0.6494 - val_loss: 0.6088 - val_acc: 0.6799\n",
            "\n",
            "Epoch 00011: val_loss improved from 0.61303 to 0.60884, saving model to top-weights.hdf5\n",
            "Epoch 12/30\n",
            "8224/8224 [==============================] - 2s 277us/step - loss: 0.6208 - acc: 0.6615 - val_loss: 0.6042 - val_acc: 0.6795\n",
            "\n",
            "Epoch 00012: val_loss improved from 0.60884 to 0.60424, saving model to top-weights.hdf5\n",
            "Epoch 13/30\n",
            "8224/8224 [==============================] - 2s 286us/step - loss: 0.6124 - acc: 0.6718 - val_loss: 0.6019 - val_acc: 0.6777\n",
            "\n",
            "Epoch 00013: val_loss improved from 0.60424 to 0.60186, saving model to top-weights.hdf5\n",
            "Epoch 14/30\n",
            "8224/8224 [==============================] - 2s 280us/step - loss: 0.6123 - acc: 0.6744 - val_loss: 0.5966 - val_acc: 0.6781\n",
            "\n",
            "Epoch 00014: val_loss improved from 0.60186 to 0.59658, saving model to top-weights.hdf5\n",
            "Epoch 15/30\n",
            "8224/8224 [==============================] - 2s 278us/step - loss: 0.6027 - acc: 0.6766 - val_loss: 0.5916 - val_acc: 0.6821\n",
            "\n",
            "Epoch 00015: val_loss improved from 0.59658 to 0.59160, saving model to top-weights.hdf5\n",
            "Epoch 16/30\n",
            "8224/8224 [==============================] - 2s 281us/step - loss: 0.5937 - acc: 0.6896 - val_loss: 0.5890 - val_acc: 0.6848\n",
            "\n",
            "Epoch 00016: val_loss improved from 0.59160 to 0.58901, saving model to top-weights.hdf5\n",
            "Epoch 17/30\n",
            "8224/8224 [==============================] - 2s 292us/step - loss: 0.5913 - acc: 0.6941 - val_loss: 0.5863 - val_acc: 0.6848\n",
            "\n",
            "Epoch 00017: val_loss improved from 0.58901 to 0.58634, saving model to top-weights.hdf5\n",
            "Epoch 18/30\n",
            "8224/8224 [==============================] - 2s 287us/step - loss: 0.5849 - acc: 0.6980 - val_loss: 0.5885 - val_acc: 0.6786\n",
            "\n",
            "Epoch 00018: val_loss did not improve from 0.58634\n",
            "Epoch 19/30\n",
            "8224/8224 [==============================] - 2s 279us/step - loss: 0.5839 - acc: 0.6952 - val_loss: 0.5826 - val_acc: 0.6920\n",
            "\n",
            "Epoch 00019: val_loss improved from 0.58634 to 0.58263, saving model to top-weights.hdf5\n",
            "Epoch 20/30\n",
            "8224/8224 [==============================] - 2s 281us/step - loss: 0.5724 - acc: 0.7065 - val_loss: 0.5834 - val_acc: 0.6906\n",
            "\n",
            "Epoch 00020: val_loss did not improve from 0.58263\n",
            "Epoch 21/30\n",
            "8224/8224 [==============================] - 2s 282us/step - loss: 0.5673 - acc: 0.7138 - val_loss: 0.5799 - val_acc: 0.6902\n",
            "\n",
            "Epoch 00021: val_loss improved from 0.58263 to 0.57988, saving model to top-weights.hdf5\n",
            "Epoch 22/30\n",
            "8224/8224 [==============================] - 2s 278us/step - loss: 0.5650 - acc: 0.7169 - val_loss: 0.5762 - val_acc: 0.7009\n",
            "\n",
            "Epoch 00022: val_loss improved from 0.57988 to 0.57618, saving model to top-weights.hdf5\n",
            "Epoch 23/30\n",
            "8224/8224 [==============================] - 2s 290us/step - loss: 0.5628 - acc: 0.7160 - val_loss: 0.5757 - val_acc: 0.7013\n",
            "\n",
            "Epoch 00023: val_loss improved from 0.57618 to 0.57573, saving model to top-weights.hdf5\n",
            "Epoch 24/30\n",
            "8224/8224 [==============================] - 2s 279us/step - loss: 0.5542 - acc: 0.7196 - val_loss: 0.5770 - val_acc: 0.6960\n",
            "\n",
            "Epoch 00024: val_loss did not improve from 0.57573\n",
            "Epoch 25/30\n",
            "8224/8224 [==============================] - 2s 273us/step - loss: 0.5505 - acc: 0.7274 - val_loss: 0.5743 - val_acc: 0.7004\n",
            "\n",
            "Epoch 00025: val_loss improved from 0.57573 to 0.57429, saving model to top-weights.hdf5\n",
            "Epoch 26/30\n",
            "8224/8224 [==============================] - 2s 281us/step - loss: 0.5434 - acc: 0.7382 - val_loss: 0.5737 - val_acc: 0.7004\n",
            "\n",
            "Epoch 00026: val_loss improved from 0.57429 to 0.57365, saving model to top-weights.hdf5\n",
            "Epoch 27/30\n",
            "8224/8224 [==============================] - 2s 279us/step - loss: 0.5339 - acc: 0.7358 - val_loss: 0.5743 - val_acc: 0.7009\n",
            "\n",
            "Epoch 00027: val_loss did not improve from 0.57365\n",
            "Epoch 28/30\n",
            "8224/8224 [==============================] - 2s 272us/step - loss: 0.5321 - acc: 0.7402 - val_loss: 0.5729 - val_acc: 0.6960\n",
            "\n",
            "Epoch 00028: val_loss improved from 0.57365 to 0.57289, saving model to top-weights.hdf5\n",
            "Epoch 29/30\n",
            "8224/8224 [==============================] - 2s 287us/step - loss: 0.5265 - acc: 0.7422 - val_loss: 0.5752 - val_acc: 0.7000\n",
            "\n",
            "Epoch 00029: val_loss did not improve from 0.57289\n",
            "Epoch 30/30\n",
            "8224/8224 [==============================] - 2s 283us/step - loss: 0.5209 - acc: 0.7500 - val_loss: 0.5745 - val_acc: 0.7022\n",
            "\n",
            "Epoch 00030: val_loss did not improve from 0.57289\n"
          ],
          "name": "stdout"
        }
      ]
    },
    {
      "cell_type": "code",
      "metadata": {
        "id": "LjooFFpr_0-y",
        "colab_type": "code",
        "outputId": "6e1a20a3-18b1-4e9e-db4b-51aa7410c574",
        "colab": {
          "base_uri": "https://localhost:8080/",
          "height": 573
        }
      },
      "source": [
        "%matplotlib inline\n",
        "from matplotlib import pyplot as plt\n",
        "\n",
        "plt.plot(history.history['acc'])\n",
        "plt.plot(history.history['val_acc'])\n",
        "plt.title('model accuracy')\n",
        "plt.ylabel('accuracy')\n",
        "plt.xlabel('epoch')\n",
        "plt.legend(['train', 'val'], loc='upper left')\n",
        "plt.show()\n",
        "\n",
        "plt.plot(history.history['loss'])\n",
        "plt.plot(history.history['val_loss'])\n",
        "plt.title('model loss')\n",
        "plt.ylabel('loss')\n",
        "plt.xlabel('epoch')\n",
        "plt.legend(['train', 'val'], loc='upper left')\n",
        "plt.show()"
      ],
      "execution_count": 0,
      "outputs": [
        {
          "output_type": "display_data",
          "data": {
            "image/png": "[encoded data removed]",
            "text/plain": [
              "<Figure size 432x288 with 1 Axes>"
            ]
          },
          "metadata": {
            "tags": []
          }
        },
        {
          "output_type": "display_data",
          "data": {
            "image/png": "[encoded data removed]",
            "text/plain": [
              "<Figure size 432x288 with 1 Axes>"
            ]
          },
          "metadata": {
            "tags": []
          }
        }
      ]
    },
    {
      "cell_type": "markdown",
      "metadata": {
        "id": "sW9c3R6aOyl2",
        "colab_type": "text"
      },
      "source": [
        "**Объединяем сверточные и полносвязные слои**"
      ]
    },
    {
      "cell_type": "code",
      "metadata": {
        "id": "yBNDmMY3l9bI",
        "colab_type": "code",
        "colab": {}
      },
      "source": [
        ""
      ],
      "execution_count": 0,
      "outputs": []
    },
    {
      "cell_type": "code",
      "metadata": {
        "id": "GLBg8jAfz8xU",
        "colab_type": "code",
        "outputId": "3f1aae5f-fadd-46c6-e7b0-9f016f053bc5",
        "colab": {
          "base_uri": "https://localhost:8080/",
          "height": 156
        }
      },
      "source": [
        "from keras.models import Model\n",
        "\n",
        "batch_size = 16\n",
        "epochs = 3\n",
        "\n",
        "input_tensor = Input(shape=(img_height,img_width,3))\n",
        "\n",
        "base_model = xception.Xception(weights='imagenet',\n",
        "                                            include_top=False,\n",
        "                                            input_shape=(img_width, img_height, 3),\n",
        "                                            pooling='avg')\n",
        "\n",
        "top_model = Sequential()\n",
        "    \n",
        "top_model.add(Dense(256, activation='relu', input_shape=base_model.output_shape[1:]))\n",
        "top_model.add(Dropout(0.5))\n",
        "\n",
        "top_model.add(Dense(128, activation='relu'))\n",
        "top_model.add(Dropout(0.5))  \n",
        "\n",
        "top_model.add(Dense(64, activation='relu'))\n",
        "top_model.add(Dropout(0.5))  \n",
        "\n",
        "top_model.add(Dense(1, activation='sigmoid'))\n",
        "\n",
        "top_model.load_weights('top-weights.hdf5')\n",
        "\n",
        "model = Model(inputs=base_model.input, outputs=top_model(base_model.output))\n",
        "\n",
        "model.compile(optimizer=SGD(lr=0.005, momentum=0.1, nesterov=True),\n",
        "              loss='binary_crossentropy',\n",
        "              metrics=['accuracy'])\n",
        "\n",
        "\n",
        "checkpointer = ModelCheckpoint(filepath='weights.hdf5', verbose=1, save_best_only=True)\n",
        "\n",
        "train_datagen = image.ImageDataGenerator(\n",
        "        rescale=1./255,\n",
        "        shear_range=0.2,\n",
        "        zoom_range=0.2,\n",
        "        horizontal_flip=True)\n",
        "\n",
        "test_datagen = image.ImageDataGenerator(rescale=1./255)\n",
        "\n",
        "train_generator = train_datagen.flow_from_directory(\n",
        "        train_data_dir,\n",
        "        target_size=(img_height, img_width),\n",
        "        batch_size=batch_size,\n",
        "        class_mode='binary')\n",
        "\n",
        "validation_generator = test_datagen.flow_from_directory(\n",
        "        validation_data_dir,\n",
        "        target_size=(img_height, img_width),\n",
        "        batch_size=batch_size,\n",
        "        class_mode='binary')\n",
        "\n",
        "history = model.fit_generator(train_generator,\n",
        "                            steps_per_epoch=nb_train_samples // batch_size,\n",
        "                            epochs=epochs,\n",
        "                            validation_data=validation_generator,\n",
        "                            validation_steps=nb_validation_samples // batch_size)"
      ],
      "execution_count": 0,
      "outputs": [
        {
          "output_type": "stream",
          "text": [
            "Found 8224 images belonging to 2 classes.\n",
            "Found 2240 images belonging to 2 classes.\n",
            "Epoch 1/3\n",
            "514/514 [==============================] - 299s 582ms/step - loss: 0.5893 - acc: 0.6915 - val_loss: 0.5635 - val_acc: 0.7138\n",
            "Epoch 2/3\n",
            "514/514 [==============================] - 285s 555ms/step - loss: 0.5457 - acc: 0.7310 - val_loss: 0.5645 - val_acc: 0.7071\n",
            "Epoch 3/3\n",
            "514/514 [==============================] - 288s 561ms/step - loss: 0.5184 - acc: 0.7501 - val_loss: 0.5391 - val_acc: 0.7321\n"
          ],
          "name": "stdout"
        }
      ]
    },
    {
      "cell_type": "markdown",
      "metadata": {
        "id": "EiD9A9V_PFhl",
        "colab_type": "text"
      },
      "source": [
        "**Тестируем полученную сеть**"
      ]
    },
    {
      "cell_type": "code",
      "metadata": {
        "id": "bPkKI4WJmMFF",
        "colab_type": "code",
        "outputId": "f666e0e0-56d1-48af-dfb3-63523e4f8d75",
        "colab": {
          "base_uri": "https://localhost:8080/",
          "height": 52
        }
      },
      "source": [
        "test_generator = data_generator.flow_from_directory(\n",
        "    test_data_dir,\n",
        "    target_size=(img_height, img_width),\n",
        "    batch_size=batch_size,\n",
        "    class_mode='binary',\n",
        "    shuffle=False)\n",
        "\n",
        "score = model.evaluate_generator(test_generator, batch_size)\n",
        "\n",
        "print(\"Loss: \", score[0], \"Accuracy: \", score[1])"
      ],
      "execution_count": 0,
      "outputs": [
        {
          "output_type": "stream",
          "text": [
            "Found 2401 images belonging to 2 classes.\n",
            "Loss:  0.4482061481103301 Accuracy:  0.8125\n"
          ],
          "name": "stdout"
        }
      ]
    },
    {
      "cell_type": "markdown",
      "metadata": {
        "id": "nbDD4tT2PeZK",
        "colab_type": "text"
      },
      "source": [
        "**Сохраняем лучшие веса сети**"
      ]
    },
    {
      "cell_type": "code",
      "metadata": {
        "id": "AZJRzFTu0Vef",
        "colab_type": "code",
        "colab": {}
      },
      "source": [
        "model.save('fake_orig_v1.h5')"
      ],
      "execution_count": 0,
      "outputs": []
    },
    {
      "cell_type": "code",
      "metadata": {
        "id": "lQdQkuin497A",
        "colab_type": "code",
        "colab": {}
      },
      "source": [
        ""
      ],
      "execution_count": 0,
      "outputs": []
    }
  ]
}